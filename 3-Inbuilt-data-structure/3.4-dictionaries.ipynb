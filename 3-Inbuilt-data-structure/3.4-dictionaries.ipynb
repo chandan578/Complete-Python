{
 "cells": [
  {
   "cell_type": "markdown",
   "metadata": {},
   "source": [
    "## Dictionaries"
   ]
  },
  {
   "cell_type": "code",
   "execution_count": 1,
   "metadata": {},
   "outputs": [
    {
     "name": "stdout",
     "output_type": "stream",
     "text": [
      "<class 'dict'>\n"
     ]
    }
   ],
   "source": [
    "## Crete dictionary\n",
    "\n",
    "empty_dict = {}\n",
    "print(type(empty_dict))"
   ]
  },
  {
   "cell_type": "code",
   "execution_count": 2,
   "metadata": {},
   "outputs": [
    {
     "name": "stdout",
     "output_type": "stream",
     "text": [
      "<class 'dict'>\n"
     ]
    }
   ],
   "source": [
    "empty_dict = dict()\n",
    "print(type(empty_dict))"
   ]
  },
  {
   "cell_type": "code",
   "execution_count": 3,
   "metadata": {},
   "outputs": [
    {
     "name": "stdout",
     "output_type": "stream",
     "text": [
      "{'name': 'chandan', 'age': 23, 'grade': 24}\n",
      "<class 'dict'>\n"
     ]
    }
   ],
   "source": [
    "student = {\"name\": \"chandan\", \"age\":23, \"grade\":24}\n",
    "print(student)\n",
    "print(type(student))"
   ]
  },
  {
   "cell_type": "code",
   "execution_count": 5,
   "metadata": {},
   "outputs": [
    {
     "name": "stdout",
     "output_type": "stream",
     "text": [
      "{'name': 24, 'age': 23}\n"
     ]
    }
   ],
   "source": [
    "## Single key is only used not duplicate key exist\n",
    "\n",
    "student = {\"name\": \"chandan\", \"age\":23, \"name\":24}\n",
    "print(student)"
   ]
  },
  {
   "cell_type": "code",
   "execution_count": null,
   "metadata": {},
   "outputs": [
    {
     "name": "stdout",
     "output_type": "stream",
     "text": [
      "{'name': 'chandan', 'age': 23, 'grade': 'A'}\n",
      "chandan\n",
      "23\n",
      "A\n",
      "chandan\n",
      "None\n",
      "Not available\n"
     ]
    }
   ],
   "source": [
    "## Accessing dictionary elements\n",
    "student = {\"name\": \"chandan\", \"age\":23, \"grade\":\"A\"}\n",
    "print(student)\n",
    "print(student[\"name\"])\n",
    "print(student[\"age\"])\n",
    "print(student[\"grade\"])\n",
    "\n",
    "## Accessing using get() method\n",
    "print(student.get(\"name\"))\n",
    "print(student.get(\"last_name\"))\n",
    "print(student.get(\"last_name\", \"Not available\"))  ## when not key then give that what is show.."
   ]
  },
  {
   "cell_type": "code",
   "execution_count": null,
   "metadata": {},
   "outputs": [
    {
     "name": "stdout",
     "output_type": "stream",
     "text": [
      "{'name': 'chandan', 'age': 33, 'grade': 'A', 'address': 'India'}\n",
      "{'name': 'chandan', 'age': 33, 'grade': 'A', 'address': 'India'}\n",
      "{'name': 'chandan', 'age': 33, 'grade': 'A', 'address': 'India'}\n",
      "{'name': 'chandan', 'age': 33, 'address': 'India'}\n"
     ]
    }
   ],
   "source": [
    "## Modifying dictionary elements\n",
    "## dictionary are mutable, so you can add, update or delete elements\n",
    "print(student)\n",
    "\n",
    "student[\"age\"] = 33  ## update the value\n",
    "print(student)\n",
    "student[\"address\"] = \"India\"  ## added a new key and value..\n",
    "print(student)\n",
    "\n",
    "del student[\"grade\"]  ## delete key value pair\n",
    "print(student)"
   ]
  },
  {
   "cell_type": "code",
   "execution_count": null,
   "metadata": {},
   "outputs": [
    {
     "name": "stdout",
     "output_type": "stream",
     "text": [
      "dict_keys(['name', 'age', 'address'])\n",
      "dict_values(['chandan', 33, 'India'])\n",
      "dict_items([('name', 'chandan'), ('age', 33), ('address', 'India')])\n"
     ]
    }
   ],
   "source": [
    "## Dictionary methods\n",
    "\n",
    "keys = student.keys()   ## all keys of the student\n",
    "print(keys)\n",
    "\n",
    "values = student.values()  ## all values of the student\n",
    "print(values)\n",
    "\n",
    "items = student.items()  ## get all key value pairs\n",
    "print(items)"
   ]
  },
  {
   "cell_type": "code",
   "execution_count": 15,
   "metadata": {},
   "outputs": [
    {
     "name": "stdout",
     "output_type": "stream",
     "text": [
      "{'name': 'chandan', 'age': 33, 'address': 'India'}\n",
      "{'name': 'chandan', 'age': 33, 'address': 'India'}\n"
     ]
    }
   ],
   "source": [
    "## Shallow copy\n",
    "student_copy = student\n",
    "print(student)\n",
    "print(student_copy)"
   ]
  },
  {
   "cell_type": "code",
   "execution_count": 16,
   "metadata": {},
   "outputs": [
    {
     "name": "stdout",
     "output_type": "stream",
     "text": [
      "{'name': 'chandan11', 'age': 33, 'address': 'India'}\n",
      "{'name': 'chandan11', 'age': 33, 'address': 'India'}\n"
     ]
    }
   ],
   "source": [
    "student[\"name\"] = \"chandan11\"\n",
    "print(student)\n",
    "print(student_copy)"
   ]
  },
  {
   "cell_type": "code",
   "execution_count": 17,
   "metadata": {},
   "outputs": [
    {
     "name": "stdout",
     "output_type": "stream",
     "text": [
      "{'name': 'chandan11', 'age': 33, 'address': 'India'}\n",
      "{'name': 'chandan11', 'age': 33, 'address': 'India'}\n"
     ]
    }
   ],
   "source": [
    "student_copy1 = student.copy()  ## Shallow copy\n",
    "print(student_copy1)\n",
    "print(student)"
   ]
  },
  {
   "cell_type": "code",
   "execution_count": null,
   "metadata": {},
   "outputs": [
    {
     "name": "stdout",
     "output_type": "stream",
     "text": [
      "{'name': 'chandan22', 'age': 33, 'address': 'India'}\n",
      "{'name': 'chandan11', 'age': 33, 'address': 'India'}\n"
     ]
    }
   ],
   "source": [
    "student[\"name\"] = \"chandan22\"  ## when we change one dict then not reflect in others\n",
    "print(student)\n",
    "print(student_copy1)"
   ]
  },
  {
   "cell_type": "code",
   "execution_count": 20,
   "metadata": {},
   "outputs": [
    {
     "name": "stdout",
     "output_type": "stream",
     "text": [
      "name\n",
      "age\n",
      "address\n"
     ]
    }
   ],
   "source": [
    "## Iterating over dictionaries\n",
    "## You can use loops to iterate over dictionatries, keys, values, or items\n",
    "\n",
    "## Iterating over keys\n",
    "for keys in student.keys():\n",
    "    print(keys)"
   ]
  },
  {
   "cell_type": "code",
   "execution_count": 21,
   "metadata": {},
   "outputs": [
    {
     "name": "stdout",
     "output_type": "stream",
     "text": [
      "chandan22\n",
      "33\n",
      "India\n"
     ]
    }
   ],
   "source": [
    "## Iterate over values\n",
    "\n",
    "for values in student.values():\n",
    "    print(values)"
   ]
  },
  {
   "cell_type": "code",
   "execution_count": 22,
   "metadata": {},
   "outputs": [
    {
     "name": "stdout",
     "output_type": "stream",
     "text": [
      "name: chandan22\n",
      "age: 33\n",
      "address: India\n"
     ]
    }
   ],
   "source": [
    "## Iterate over key value pairs\n",
    "\n",
    "for key, values in student.items():\n",
    "    print(f\"{key}: {values}\")"
   ]
  },
  {
   "cell_type": "code",
   "execution_count": 23,
   "metadata": {},
   "outputs": [
    {
     "name": "stdout",
     "output_type": "stream",
     "text": [
      "{'student1': {'name': 'chandan', 'age': 33}, 'student2': {'name': 'kumar', 'age': 33}, 'student3': {'name': 'nikhi', 'age': 3}, 'student4': {'name': 'ahamad', 'age': 34}}\n"
     ]
    }
   ],
   "source": [
    "## Nested dictionary\n",
    "\n",
    "students = {\n",
    "    \"student1\":{\"name\": \"chandan\", \"age\":33},\n",
    "    \"student2\":{\"name\": \"kumar\", \"age\":33},\n",
    "    \"student3\":{\"name\": \"nikhi\", \"age\":3},\n",
    "    \"student4\":{\"name\": \"ahamad\", \"age\":34},\n",
    "}\n",
    "\n",
    "print(students)"
   ]
  },
  {
   "cell_type": "code",
   "execution_count": 24,
   "metadata": {},
   "outputs": [
    {
     "name": "stdout",
     "output_type": "stream",
     "text": [
      "chandan\n",
      "33\n"
     ]
    }
   ],
   "source": [
    "## access nested dict elements\n",
    "print(students[\"student1\"][\"name\"])\n",
    "print(students[\"student1\"][\"age\"])"
   ]
  },
  {
   "cell_type": "code",
   "execution_count": 25,
   "metadata": {},
   "outputs": [
    {
     "data": {
      "text/plain": [
       "dict_items([('student1', {'name': 'chandan', 'age': 33}), ('student2', {'name': 'kumar', 'age': 33}), ('student3', {'name': 'nikhi', 'age': 3}), ('student4', {'name': 'ahamad', 'age': 34})])"
      ]
     },
     "execution_count": 25,
     "metadata": {},
     "output_type": "execute_result"
    }
   ],
   "source": [
    "students.items()"
   ]
  },
  {
   "cell_type": "code",
   "execution_count": 27,
   "metadata": {},
   "outputs": [
    {
     "name": "stdout",
     "output_type": "stream",
     "text": [
      "student1: {'name': 'chandan', 'age': 33}\n",
      "name:chandan\n",
      "age:33\n",
      "student2: {'name': 'kumar', 'age': 33}\n",
      "name:kumar\n",
      "age:33\n",
      "student3: {'name': 'nikhi', 'age': 3}\n",
      "name:nikhi\n",
      "age:3\n",
      "student4: {'name': 'ahamad', 'age': 34}\n",
      "name:ahamad\n",
      "age:34\n"
     ]
    }
   ],
   "source": [
    "## Iterating over nested dic\n",
    "\n",
    "for student_id, student_info in students.items():\n",
    "    print(f\"{student_id}: {student_info}\")\n",
    "    for key, value in student_info.items():\n",
    "        print(f\"{key}:{value}\")"
   ]
  },
  {
   "cell_type": "code",
   "execution_count": 29,
   "metadata": {},
   "outputs": [
    {
     "name": "stdout",
     "output_type": "stream",
     "text": [
      "{0: 0, 1: 1, 2: 4, 3: 9, 4: 16}\n"
     ]
    }
   ],
   "source": [
    "## dictionary comprehension \n",
    "\n",
    "squares = {x:x**2 for x in range(5)}\n",
    "print(squares)"
   ]
  },
  {
   "cell_type": "code",
   "execution_count": 31,
   "metadata": {},
   "outputs": [
    {
     "name": "stdout",
     "output_type": "stream",
     "text": [
      "{0: 0, 2: 4, 4: 16, 6: 36, 8: 64, 10: 100, 12: 144, 14: 196, 16: 256, 18: 324}\n"
     ]
    }
   ],
   "source": [
    "## Conditional dictionary compreshension\n",
    "\n",
    "even = {x:x**2 for x in range(20) if x%2==0}\n",
    "print(even)"
   ]
  },
  {
   "cell_type": "code",
   "execution_count": 33,
   "metadata": {},
   "outputs": [
    {
     "name": "stdout",
     "output_type": "stream",
     "text": [
      "{1: 1, 2: 2, 3: 3, 4: 4}\n"
     ]
    }
   ],
   "source": [
    "## Practical examples\n",
    "\n",
    "## Use a dictionary to count the frequency of elements in list\n",
    "\n",
    "number = [1,2,2,3,3,3,4,4,4,4]\n",
    "\n",
    "freq = {}\n",
    "for num in number:\n",
    "    if num in freq:\n",
    "        freq[num] += 1\n",
    "    else:\n",
    "        freq[num] = 1\n",
    "print(freq)"
   ]
  },
  {
   "cell_type": "code",
   "execution_count": 1,
   "metadata": {},
   "outputs": [
    {
     "name": "stdout",
     "output_type": "stream",
     "text": [
      "{'a': 1, 'b': 2, 'c': 3, 'd': 4}\n"
     ]
    }
   ],
   "source": [
    "## Merge two dict\n",
    "\n",
    "dict1 = {\"a\":1, \"b\":2}\n",
    "dict2 = {\"c\":3, \"d\":4}\n",
    "\n",
    "merged_dict = {**dict1, **dict2}\n",
    "print(merged_dict)"
   ]
  },
  {
   "cell_type": "code",
   "execution_count": 3,
   "metadata": {},
   "outputs": [
    {
     "data": {
      "text/plain": [
       "{'a': 1, 'b': 2, 'c': 3}"
      ]
     },
     "execution_count": 3,
     "metadata": {},
     "output_type": "execute_result"
    }
   ],
   "source": [
    "keys = ['a', 'b', 'c']\n",
    "values = [1, 2, 3]\n",
    "\n",
    "dict = {keys[i]:values[i] for i in range(len(keys))}\n",
    "dict"
   ]
  }
 ],
 "metadata": {
  "kernelspec": {
   "display_name": "Python 3",
   "language": "python",
   "name": "python3"
  },
  "language_info": {
   "codemirror_mode": {
    "name": "ipython",
    "version": 3
   },
   "file_extension": ".py",
   "mimetype": "text/x-python",
   "name": "python",
   "nbconvert_exporter": "python",
   "pygments_lexer": "ipython3",
   "version": "3.12.0"
  }
 },
 "nbformat": 4,
 "nbformat_minor": 2
}
