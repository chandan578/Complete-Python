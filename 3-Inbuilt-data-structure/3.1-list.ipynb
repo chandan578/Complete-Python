{
 "cells": [
  {
   "cell_type": "markdown",
   "metadata": {},
   "source": [
    "## List\n"
   ]
  },
  {
   "cell_type": "code",
   "execution_count": null,
   "metadata": {},
   "outputs": [
    {
     "name": "stdout",
     "output_type": "stream",
     "text": [
      "<class 'list'>\n",
      "[]\n",
      "[1, 2, 2, 4, 5]\n"
     ]
    }
   ],
   "source": [
    "## Define list\n",
    "\n",
    "lst = []\n",
    "print(type(lst))\n",
    "print(lst)"
   ]
  },
  {
   "cell_type": "code",
   "execution_count": 3,
   "metadata": {},
   "outputs": [
    {
     "name": "stdout",
     "output_type": "stream",
     "text": [
      "['Chandan', 'Nikhil', 'Taqueer', 'Abhay']\n"
     ]
    }
   ],
   "source": [
    "names = [\"Chandan\", \"Nikhil\", \"Taqueer\", \"Abhay\"]\n",
    "print(names)"
   ]
  },
  {
   "cell_type": "code",
   "execution_count": 4,
   "metadata": {},
   "outputs": [
    {
     "name": "stdout",
     "output_type": "stream",
     "text": [
      "[1, 'chandan', 4.33, False]\n"
     ]
    }
   ],
   "source": [
    "mixed_list = [1, 'chandan', 4.33, False]\n",
    "print(mixed_list)"
   ]
  },
  {
   "cell_type": "code",
   "execution_count": 5,
   "metadata": {},
   "outputs": [],
   "source": [
    "## Accessing list items\n",
    "\n",
    "fruits = ['Apple', \"banana\", \"cherry\", \"gauva\", \"kiwi\"]"
   ]
  },
  {
   "cell_type": "code",
   "execution_count": 10,
   "metadata": {},
   "outputs": [
    {
     "name": "stdout",
     "output_type": "stream",
     "text": [
      "banana\n",
      "gauva\n",
      "kiwi\n"
     ]
    }
   ],
   "source": [
    "print(fruits[1])\n",
    "print(fruits[3])\n",
    "print(fruits[-1])"
   ]
  },
  {
   "cell_type": "code",
   "execution_count": 14,
   "metadata": {},
   "outputs": [
    {
     "name": "stdout",
     "output_type": "stream",
     "text": [
      "['banana', 'cherry', 'gauva', 'kiwi']\n",
      "['banana', 'cherry', 'gauva']\n",
      "['gauva', 'kiwi']\n"
     ]
    }
   ],
   "source": [
    "print(fruits[1:])\n",
    "print(fruits[1:4])\n",
    "print(fruits[-2:])"
   ]
  },
  {
   "cell_type": "code",
   "execution_count": 15,
   "metadata": {},
   "outputs": [
    {
     "data": {
      "text/plain": [
       "['Apple', 'banana', 'cherry', 'gauva', 'kiwi']"
      ]
     },
     "execution_count": 15,
     "metadata": {},
     "output_type": "execute_result"
    }
   ],
   "source": [
    "## Modifying the list elements\n",
    "\n",
    "fruits"
   ]
  },
  {
   "cell_type": "code",
   "execution_count": 16,
   "metadata": {},
   "outputs": [
    {
     "name": "stdout",
     "output_type": "stream",
     "text": [
      "['Apple', 'Watermelon', 'cherry', 'gauva', 'kiwi']\n"
     ]
    }
   ],
   "source": [
    "fruits[1] = \"Watermelon\"\n",
    "print(fruits)"
   ]
  },
  {
   "cell_type": "code",
   "execution_count": 17,
   "metadata": {},
   "outputs": [
    {
     "name": "stdout",
     "output_type": "stream",
     "text": [
      "['Apple', 'W', 'a', 't', 'e', 'r', 'm', 'e', 'l', 'o', 'n']\n"
     ]
    }
   ],
   "source": [
    "fruits[1:] = \"Watermelon\"\n",
    "print(fruits)"
   ]
  },
  {
   "cell_type": "code",
   "execution_count": 18,
   "metadata": {},
   "outputs": [],
   "source": [
    "fruits = ['Apple', 'Watermelon', 'cherry', 'gauva', 'kiwi']"
   ]
  },
  {
   "cell_type": "code",
   "execution_count": null,
   "metadata": {},
   "outputs": [
    {
     "name": "stdout",
     "output_type": "stream",
     "text": [
      "['Apple', 'Watermelon', 'cherry', 'gauva', 'kiwi', 'orange', 'orange', 'orange', 'orange', 'orange', 'orange', 'orange']\n"
     ]
    }
   ],
   "source": [
    "## List method..\n",
    "\n",
    "## append\n",
    "\n",
    "fruits.append(\"orange\")\n",
    "print(fruits)"
   ]
  },
  {
   "cell_type": "code",
   "execution_count": null,
   "metadata": {},
   "outputs": [
    {
     "name": "stdout",
     "output_type": "stream",
     "text": [
      "['Apple', 'banana', 'Watermelon', 'cherry', 'gauva', 'kiwi', 'orange', 'orange', 'orange', 'orange', 'orange', 'orange', 'orange']\n"
     ]
    }
   ],
   "source": [
    "## insert\n",
    "fruits.insert(1, \"banana\")\n",
    "print(fruits)\n"
   ]
  },
  {
   "cell_type": "code",
   "execution_count": null,
   "metadata": {},
   "outputs": [
    {
     "name": "stdout",
     "output_type": "stream",
     "text": [
      "['Apple', 'banana', 'Watermelon', 'cherry', 'gauva', 'kiwi', 'orange', 'orange', 'orange', 'orange']\n"
     ]
    }
   ],
   "source": [
    "## remove\n",
    "fruits.remove(\"orange\")  ## it remove first occurance of the item\n",
    "print(fruits)"
   ]
  },
  {
   "cell_type": "code",
   "execution_count": 32,
   "metadata": {},
   "outputs": [
    {
     "name": "stdout",
     "output_type": "stream",
     "text": [
      "orange\n",
      "['Apple', 'banana', 'Watermelon', 'cherry', 'gauva', 'kiwi', 'orange', 'orange']\n"
     ]
    }
   ],
   "source": [
    "## Remove and return last item\n",
    "popped_item = fruits.pop()\n",
    "print(popped_item)\n",
    "print(fruits)"
   ]
  },
  {
   "cell_type": "code",
   "execution_count": 35,
   "metadata": {},
   "outputs": [
    {
     "name": "stdout",
     "output_type": "stream",
     "text": [
      "4\n"
     ]
    }
   ],
   "source": [
    "## index \n",
    "index = fruits.index('gauva')\n",
    "print(index)"
   ]
  },
  {
   "cell_type": "code",
   "execution_count": 38,
   "metadata": {},
   "outputs": [
    {
     "name": "stdout",
     "output_type": "stream",
     "text": [
      "No of orange :  2\n",
      "['Apple', 'banana', 'Watermelon', 'cherry', 'gauva', 'kiwi', 'orange', 'orange']\n"
     ]
    }
   ],
   "source": [
    "## count\n",
    "print(\"No of orange : \", fruits.count(\"orange\"))\n",
    "print(fruits)"
   ]
  },
  {
   "cell_type": "code",
   "execution_count": 40,
   "metadata": {},
   "outputs": [
    {
     "name": "stdout",
     "output_type": "stream",
     "text": [
      "['Apple', 'Watermelon', 'banana', 'cherry', 'gauva', 'kiwi', 'orange', 'orange']\n"
     ]
    }
   ],
   "source": [
    "## sort items\n",
    "fruits.sort() ## sort in ascending order\n",
    "print(fruits)"
   ]
  },
  {
   "cell_type": "code",
   "execution_count": 42,
   "metadata": {},
   "outputs": [
    {
     "name": "stdout",
     "output_type": "stream",
     "text": [
      "['Apple', 'Watermelon', 'banana', 'cherry', 'gauva', 'kiwi', 'orange', 'orange']\n"
     ]
    }
   ],
   "source": [
    "## reverse fruits items...\n",
    "fruits.reverse()\n",
    "print(fruits)"
   ]
  },
  {
   "cell_type": "code",
   "execution_count": 44,
   "metadata": {},
   "outputs": [
    {
     "name": "stdout",
     "output_type": "stream",
     "text": [
      "[]\n"
     ]
    }
   ],
   "source": [
    "## clear method \n",
    "fruits.clear()\n",
    "print(fruits)"
   ]
  },
  {
   "cell_type": "markdown",
   "metadata": {},
   "source": [
    "## Slicing List"
   ]
  },
  {
   "cell_type": "code",
   "execution_count": 51,
   "metadata": {},
   "outputs": [
    {
     "name": "stdout",
     "output_type": "stream",
     "text": [
      "[1, 2, 3, 4, 5]\n",
      "[6, 7, 8, 9, 10]\n",
      "[4, 5, 6, 7, 8]\n",
      "[1, 2, 3, 4, 5, 6, 7, 8, 9, 10]\n",
      "[1, 3, 5, 7, 9]\n",
      "[10, 9, 8, 7, 6, 5, 4, 3, 2, 1]\n",
      "[10, 8, 6, 4, 2]\n"
     ]
    }
   ],
   "source": [
    "## slicing list\n",
    "\n",
    "number = [1,2,3,4,5,6,7,8,9,10]\n",
    "\n",
    "print(number[:5])\n",
    "print(number[5:])\n",
    "print(number[3:8])\n",
    "print(number[::])\n",
    "print(number[::2]) ## 2 denotes the steps\n",
    "print(number[::-1]) ## -1 denotes the reverse...\n",
    "print(number[::-2])\n"
   ]
  },
  {
   "cell_type": "code",
   "execution_count": 52,
   "metadata": {},
   "outputs": [
    {
     "name": "stdout",
     "output_type": "stream",
     "text": [
      "1\n",
      "2\n",
      "3\n",
      "4\n",
      "5\n",
      "6\n",
      "7\n",
      "8\n",
      "9\n",
      "10\n"
     ]
    }
   ],
   "source": [
    "## Iterating with index\n",
    "\n",
    "for num in number:\n",
    "    print(num)"
   ]
  },
  {
   "cell_type": "code",
   "execution_count": 54,
   "metadata": {},
   "outputs": [
    {
     "name": "stdout",
     "output_type": "stream",
     "text": [
      "0 1\n",
      "1 2\n",
      "2 3\n",
      "3 4\n",
      "4 5\n",
      "5 6\n",
      "6 7\n",
      "7 8\n",
      "8 9\n",
      "9 10\n"
     ]
    }
   ],
   "source": [
    "## iterate with enumerate --> it is use to access the index of that element\n",
    "\n",
    "for index, num in enumerate(number):\n",
    "    print(index, num)"
   ]
  },
  {
   "cell_type": "code",
   "execution_count": null,
   "metadata": {},
   "outputs": [
    {
     "name": "stdout",
     "output_type": "stream",
     "text": [
      "[0, 1, 4, 9, 16, 25, 36, 49, 64, 81]\n"
     ]
    }
   ],
   "source": [
    "## List comprehension\n",
    "\n",
    "lst = []\n",
    "for x in range(10):\n",
    "    lst.append(x**2) ## square of number\n",
    "print(lst)"
   ]
  },
  {
   "cell_type": "code",
   "execution_count": 58,
   "metadata": {},
   "outputs": [
    {
     "data": {
      "text/plain": [
       "[0, 1, 4, 9, 16, 25, 36, 49, 64, 81]"
      ]
     },
     "execution_count": 58,
     "metadata": {},
     "output_type": "execute_result"
    }
   ],
   "source": [
    "[x**2 for x in range(10)]  ## sort of the above opeartion\n"
   ]
  },
  {
   "cell_type": "markdown",
   "metadata": {},
   "source": [
    "### List comprehension\n",
    "\n",
    "Basic syntax [expression for item in iterable]\n",
    "\n",
    "with conditional logic [expression for item in iterable if condition]\n",
    "\n",
    "Nested list comprehension [expression for item1 in iterable1 for item2 in iterable2]\n",
    "\n",
    "List comprehension with function calls [functionName(item) for item in iterable]\n"
   ]
  },
  {
   "cell_type": "code",
   "execution_count": 64,
   "metadata": {},
   "outputs": [
    {
     "name": "stdout",
     "output_type": "stream",
     "text": [
      "[0, 1, 4, 9, 16, 25, 36, 49, 64, 81]\n"
     ]
    }
   ],
   "source": [
    "## Basic list comprehension\n",
    "\n",
    "square = [num**2 for num in range(10)]\n",
    "print(square)"
   ]
  },
  {
   "cell_type": "code",
   "execution_count": 63,
   "metadata": {},
   "outputs": [
    {
     "name": "stdout",
     "output_type": "stream",
     "text": [
      "[0, 2, 4, 6, 8, 10, 12, 14, 16, 18]\n",
      "[0, 2, 4, 6, 8, 10, 12, 14, 16, 18]\n"
     ]
    }
   ],
   "source": [
    "## with condition list comprehension\n",
    "\n",
    "lst = []\n",
    "for num in range(20):\n",
    "    if num%2==0:\n",
    "        lst.append(num)\n",
    "print(lst)\n",
    "\n",
    "## use one line \n",
    "\n",
    "even = [num for num in range(20) if num%2==0]\n",
    "print(even)"
   ]
  },
  {
   "cell_type": "code",
   "execution_count": 66,
   "metadata": {},
   "outputs": [
    {
     "name": "stdout",
     "output_type": "stream",
     "text": [
      "[[1, 'a'], [1, 'b'], [1, 'c'], [1, 'd'], [2, 'a'], [2, 'b'], [2, 'c'], [2, 'd'], [3, 'a'], [3, 'b'], [3, 'c'], [3, 'd'], [4, 'a'], [4, 'b'], [4, 'c'], [4, 'd'], [5, 'a'], [5, 'b'], [5, 'c'], [5, 'd']]\n"
     ]
    }
   ],
   "source": [
    "## Nested list comprehension \n",
    "\n",
    "lst1 = [1, 2, 3, 4, 5]\n",
    "lst2 = ['a', 'b', 'c', 'd']\n",
    "\n",
    "pair = [[i, j] for i in lst1 for j in lst2]\n",
    "print(pair)"
   ]
  },
  {
   "cell_type": "code",
   "execution_count": 1,
   "metadata": {},
   "outputs": [
    {
     "name": "stdout",
     "output_type": "stream",
     "text": [
      "[5, 5, 7, 4]\n"
     ]
    }
   ],
   "source": [
    "## List comprehension with function calls\n",
    "\n",
    "words = [\"Hello\", \"Small\", \"Nothing\", \"Good\"]\n",
    "lengths = [len(word) for word in words]  ## store length of the string which present in the words list\n",
    "print(lengths)"
   ]
  },
  {
   "cell_type": "code",
   "execution_count": 4,
   "metadata": {},
   "outputs": [
    {
     "data": {
      "text/plain": [
       "False"
      ]
     },
     "execution_count": 4,
     "metadata": {},
     "output_type": "execute_result"
    }
   ],
   "source": [
    "lst1 = [1,2,3,6]\n",
    "lst2 = [1,2,3,4,5]\n",
    "\n",
    "def checkSubset(lst1, lst2):\n",
    "    for item in lst1:\n",
    "        if item not in lst2:\n",
    "            return False \n",
    "    return True\n",
    "\n",
    "checkSubset(lst1, lst2)"
   ]
  },
  {
   "cell_type": "code",
   "execution_count": 8,
   "metadata": {},
   "outputs": [
    {
     "name": "stdout",
     "output_type": "stream",
     "text": [
      "7\n"
     ]
    }
   ],
   "source": [
    "def max_consecutive_difference(lst):\n",
    "    # Your code goes here\n",
    "    # pass\n",
    "    maxDiff = float('-inf')\n",
    "    \n",
    "    for i in range(1, len(lst)):\n",
    "        value = abs(lst[i-1]-lst[i])\n",
    "        if value > maxDiff:\n",
    "            maxDiff = value\n",
    "    return maxDiff\n",
    "\n",
    "lst = [1,7,3,10,5]\n",
    "print(max_consecutive_difference(lst))"
   ]
  },
  {
   "cell_type": "code",
   "execution_count": 21,
   "metadata": {},
   "outputs": [
    {
     "name": "stdout",
     "output_type": "stream",
     "text": [
      "[6, 7, 1, 2, 3, 4, 5]\n"
     ]
    }
   ],
   "source": [
    "lst = [1,2,3,4,5,6,7]\n",
    "k = 9\n",
    "\n",
    "# lst[-k:]\n",
    "# lst[:-k]\n",
    "\n",
    "k = k%len(lst)\n",
    "\n",
    "for i in range(len(lst)-k):\n",
    "    value = lst.pop(0)\n",
    "    lst.append(value)\n",
    "\n",
    "print(lst)"
   ]
  }
 ],
 "metadata": {
  "kernelspec": {
   "display_name": "Python 3",
   "language": "python",
   "name": "python3"
  },
  "language_info": {
   "codemirror_mode": {
    "name": "ipython",
    "version": 3
   },
   "file_extension": ".py",
   "mimetype": "text/x-python",
   "name": "python",
   "nbconvert_exporter": "python",
   "pygments_lexer": "ipython3",
   "version": "3.12.0"
  }
 },
 "nbformat": 4,
 "nbformat_minor": 2
}
