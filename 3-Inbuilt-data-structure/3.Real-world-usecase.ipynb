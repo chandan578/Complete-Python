{
 "cells": [
  {
   "cell_type": "markdown",
   "metadata": {},
   "source": [
    "## Example 1. Manage A To Do List\n",
    "\n",
    "create a to do list to keep track of tasks"
   ]
  },
  {
   "cell_type": "code",
   "execution_count": 3,
   "metadata": {},
   "outputs": [
    {
     "name": "stdout",
     "output_type": "stream",
     "text": [
      "Don't forget to pay bills\n",
      "Remain list items : \n",
      "-Buy Groceries\n",
      "-Pay Bills\n",
      "-Schedule meeting\n",
      "-Go for a run\n"
     ]
    }
   ],
   "source": [
    "to_do_list = [\"Buy Groceries\", \"Clean the house\", \"Pay Bills\"]\n",
    "\n",
    "## Adding to task\n",
    "to_do_list.append(\"Schedule meeting\")\n",
    "to_do_list.append(\"Go for a run\")\n",
    "\n",
    "## Removing a completed task\n",
    "to_do_list.remove(\"Clean the house\")\n",
    "\n",
    "## Checking if a task is in the list or not\n",
    "if \"Pay Bills\" in to_do_list:\n",
    "    print(\"Don't forget to pay bills\")\n",
    "\n",
    "print(\"Remain list items : \")\n",
    "for item in to_do_list:\n",
    "    print(f\"-{item}\")"
   ]
  },
  {
   "cell_type": "markdown",
   "metadata": {},
   "source": [
    "## Example 2. Organizing Student Grades\n",
    "\n",
    "create a list to store and calculate average grades for students"
   ]
  },
  {
   "cell_type": "code",
   "execution_count": 4,
   "metadata": {},
   "outputs": [
    {
     "name": "stdout",
     "output_type": "stream",
     "text": [
      "Average grade : 88.33\n",
      "Heighest grade : 97\n",
      "Lowest grade : 78\n"
     ]
    }
   ],
   "source": [
    "## Organizing students grade\n",
    "grades = [85,92,78,90,88]\n",
    "\n",
    "## Adding a new grade\n",
    "grades.append(97)\n",
    "\n",
    "## calculating average grade\n",
    "average_grade = sum(grades)/len(grades)\n",
    "print(f\"Average grade : {average_grade:.2f}\")\n",
    "\n",
    "## Find min and max of the grade\n",
    "heighest_grade = max(grades)\n",
    "lowest_grade = min(grades)\n",
    "print(f\"Heighest grade : {heighest_grade}\")\n",
    "print(f\"Lowest grade : {lowest_grade}\")"
   ]
  },
  {
   "cell_type": "markdown",
   "metadata": {},
   "source": [
    "## Example 3. Managing An Inventory\n",
    "\n",
    "Use a list to manage inventory items in a store\n"
   ]
  },
  {
   "cell_type": "code",
   "execution_count": 6,
   "metadata": {},
   "outputs": [
    {
     "name": "stdout",
     "output_type": "stream",
     "text": [
      "Banana is available...\n",
      "Available stock in the inventory..\n",
      "-apples\n",
      "-banana\n",
      "-grapes\n",
      "-cherry\n"
     ]
    }
   ],
   "source": [
    "## Managing an inventory \n",
    "inventory = [\"apples\", \"banana\", \"oranges\", \"grapes\"]\n",
    "\n",
    "## Adding a new item\n",
    "inventory.append(\"cherry\")\n",
    "\n",
    "## Removing an item that out of stock\n",
    "inventory.remove(\"oranges\")\n",
    "\n",
    "## check if item is available or not\n",
    "if \"banana\" in inventory:\n",
    "    print(\"Banana is available...\")\n",
    "\n",
    "## print all items \n",
    "print(\"Available stock in the inventory..\")\n",
    "for item in inventory:\n",
    "    print(f\"-{item}\")"
   ]
  },
  {
   "cell_type": "markdown",
   "metadata": {},
   "source": [
    "## Example 4. Collecting User Feedback\n",
    "\n",
    "Use a list to collect and analyze user feedback"
   ]
  },
  {
   "cell_type": "code",
   "execution_count": 7,
   "metadata": {},
   "outputs": [
    {
     "name": "stdout",
     "output_type": "stream",
     "text": [
      "Feedback cont : 2\n",
      "User feedback\n",
      "-Great service!\n",
      "-Very satisfied.\n",
      "-Could be better\n",
      "-Excellent experience.\n",
      "-Not happy with the service\n"
     ]
    }
   ],
   "source": [
    "## Collecting user feedback\n",
    "feedback = [\"Great service!\", \"Very satisfied.\", \"Could be better\", \"Excellent experience.\"]\n",
    "\n",
    "## Adding new feedback\n",
    "feedback.append(\"Not happy with the service\")\n",
    "\n",
    "## Counting specific feedback\n",
    "positive_feedback_count = sum(1 for comment in feedback if \"great\" in comment.lower() or \"excellent\" in comment.lower())\n",
    "print(f\"Feedback cont : {positive_feedback_count}\")\n",
    "\n",
    "# Printing all feedback\n",
    "print(\"User feedback\")\n",
    "for comment in feedback:\n",
    "    print(f\"-{comment}\")"
   ]
  }
 ],
 "metadata": {
  "kernelspec": {
   "display_name": "Python 3",
   "language": "python",
   "name": "python3"
  },
  "language_info": {
   "codemirror_mode": {
    "name": "ipython",
    "version": 3
   },
   "file_extension": ".py",
   "mimetype": "text/x-python",
   "name": "python",
   "nbconvert_exporter": "python",
   "pygments_lexer": "ipython3",
   "version": "3.12.0"
  }
 },
 "nbformat": 4,
 "nbformat_minor": 2
}
