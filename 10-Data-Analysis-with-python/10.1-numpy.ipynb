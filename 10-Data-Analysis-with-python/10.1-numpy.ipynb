{
 "cells": [
  {
   "cell_type": "markdown",
   "id": "37b25032",
   "metadata": {},
   "source": [
    "## Numpy"
   ]
  },
  {
   "cell_type": "code",
   "execution_count": null,
   "id": "14ae6c23",
   "metadata": {},
   "outputs": [],
   "source": [
    "# NumPy is a fundamental package for scientific computing in Python.\n",
    "# It provides support for large, multi-dimensional arrays and matrices,\n",
    "# along with a collection of mathematical functions to operate on these arrays efficiently.\n",
    "\n",
    "import numpy as np\n",
    "\n",
    "# Example: create a NumPy array\n",
    "arr = np.array([1, 2, 3, 4, 5])\n",
    "print(\"NumPy Array:\", arr)"
   ]
  },
  {
   "cell_type": "code",
   "execution_count": 3,
   "id": "de8edba6",
   "metadata": {},
   "outputs": [
    {
     "name": "stdout",
     "output_type": "stream",
     "text": [
      "Requirement already satisfied: numpy in c:\\coding\\ai_ml_dl\\start_course\\venv\\lib\\site-packages (2.2.3)\n"
     ]
    }
   ],
   "source": [
    "## Install numpy library using requirement.txt or using this\n",
    "\n",
    "!pip install numpy"
   ]
  },
  {
   "cell_type": "code",
   "execution_count": 4,
   "id": "621f58a4",
   "metadata": {},
   "outputs": [
    {
     "name": "stdout",
     "output_type": "stream",
     "text": [
      "[1 2 3 4 5]\n",
      "<class 'numpy.ndarray'>\n",
      "(5,)\n"
     ]
    }
   ],
   "source": [
    "import numpy as np\n",
    "## create array using numpy\n",
    "\n",
    "## create 1D array\n",
    "arr1 = np.array([1,2,3,4,5])\n",
    "print(arr1)\n",
    "print(type(arr1))\n",
    "print(arr1.shape)"
   ]
  },
  {
   "cell_type": "code",
   "execution_count": 12,
   "id": "0233319e",
   "metadata": {},
   "outputs": [
    {
     "data": {
      "text/plain": [
       "array([[1, 2, 3, 4, 5]])"
      ]
     },
     "execution_count": 12,
     "metadata": {},
     "output_type": "execute_result"
    }
   ],
   "source": [
    "arr2 = np.array([1,2,3,4,5])\n",
    "arr2.reshape(1,5)  ## two dimension array -> 1 row and 5 col"
   ]
  },
  {
   "cell_type": "code",
   "execution_count": 15,
   "id": "600fc4dd",
   "metadata": {},
   "outputs": [
    {
     "data": {
      "text/plain": [
       "(1, 5)"
      ]
     },
     "execution_count": 15,
     "metadata": {},
     "output_type": "execute_result"
    }
   ],
   "source": [
    "arr2 = np.array([[1,2,3,4,5]])\n",
    "arr2.shape"
   ]
  },
  {
   "cell_type": "code",
   "execution_count": 18,
   "id": "5304940e",
   "metadata": {},
   "outputs": [
    {
     "name": "stdout",
     "output_type": "stream",
     "text": [
      "[[1 2 3 4 5]\n",
      " [2 3 4 5 6]]\n",
      "(2, 5)\n"
     ]
    }
   ],
   "source": [
    "## 2D array..\n",
    "arr2 = np.array([[1,2,3,4,5], [2,3,4,5,6]])\n",
    "print(arr2)\n",
    "print(arr2.shape)"
   ]
  },
  {
   "cell_type": "code",
   "execution_count": 20,
   "id": "1d8b99cb",
   "metadata": {},
   "outputs": [
    {
     "data": {
      "text/plain": [
       "array([[0],\n",
       "       [2],\n",
       "       [4],\n",
       "       [6],\n",
       "       [8]])"
      ]
     },
     "execution_count": 20,
     "metadata": {},
     "output_type": "execute_result"
    }
   ],
   "source": [
    "## Inbuild method..\n",
    "np.arange(0, 10, 2).reshape(5, 1)"
   ]
  },
  {
   "cell_type": "code",
   "execution_count": 24,
   "id": "83307685",
   "metadata": {},
   "outputs": [
    {
     "data": {
      "text/plain": [
       "array([[1., 1., 1., 1., 1.],\n",
       "       [1., 1., 1., 1., 1.],\n",
       "       [1., 1., 1., 1., 1.]])"
      ]
     },
     "execution_count": 24,
     "metadata": {},
     "output_type": "execute_result"
    }
   ],
   "source": [
    "## Inbuilt method\n",
    "np.ones((3,5))"
   ]
  },
  {
   "cell_type": "code",
   "execution_count": 26,
   "id": "0492260b",
   "metadata": {},
   "outputs": [
    {
     "data": {
      "text/plain": [
       "array([[1., 0., 0., 0.],\n",
       "       [0., 1., 0., 0.],\n",
       "       [0., 0., 1., 0.],\n",
       "       [0., 0., 0., 1.]])"
      ]
     },
     "execution_count": 26,
     "metadata": {},
     "output_type": "execute_result"
    }
   ],
   "source": [
    "## identity matrix..  -> all diagonal element is 1 only\n",
    "np.eye(4)"
   ]
  },
  {
   "cell_type": "code",
   "execution_count": 30,
   "id": "62df2e8f",
   "metadata": {},
   "outputs": [
    {
     "name": "stdout",
     "output_type": "stream",
     "text": [
      "[[1 2 3 4 5]\n",
      " [1 2 3 4 5]]\n",
      "Shape :  (2, 5)\n",
      "Number of dimension :  2\n",
      "Size(number of elements):  10\n",
      "Data type:  int64\n",
      "Item size(in bytes):  8\n"
     ]
    }
   ],
   "source": [
    "## Attributes of numpy\n",
    "\n",
    "arr1 = np.array([[1,2,3,4,5], [1,2,3,4,5]])\n",
    "\n",
    "print(arr1)\n",
    "print(\"Shape : \",arr1.shape)\n",
    "print(\"Number of dimension : \", arr1.ndim)\n",
    "print(\"Size(number of elements): \", arr1.size)\n",
    "print(\"Data type: \", arr1.dtype)\n",
    "print(\"Item size(in bytes): \", arr1.itemsize)"
   ]
  },
  {
   "cell_type": "code",
   "execution_count": 33,
   "id": "3c29099c",
   "metadata": {},
   "outputs": [
    {
     "name": "stdout",
     "output_type": "stream",
     "text": [
      "Addition : [11 22 33 44 55]\n",
      "Substriction : [11 22 33 44 55]\n",
      "Multiplication : [ 10  40  90 160 250]\n",
      "Division : [0.1 0.1 0.1 0.1 0.1]\n"
     ]
    }
   ],
   "source": [
    "## Numpy vectorized operation\n",
    "\n",
    "arr1 = np.array([1,2,3,4,5])\n",
    "arr2 = np.array([10,20, 30, 40, 50])\n",
    "\n",
    "# addition\n",
    "print(\"Addition :\", arr1+arr2)\n",
    "\n",
    "## substraction\n",
    "print(\"Substriction :\", arr1+arr2)\n",
    "\n",
    "## Multiplication\n",
    "print(\"Multiplication :\", arr1*arr2)\n",
    "\n",
    "## Division\n",
    "print(\"Division :\", arr1/arr2)"
   ]
  },
  {
   "cell_type": "code",
   "execution_count": 36,
   "id": "d4ef4a31",
   "metadata": {},
   "outputs": [
    {
     "name": "stdout",
     "output_type": "stream",
     "text": [
      "[1.         1.41421356 1.73205081 2.         2.23606798]\n",
      "[  2.71828183   7.3890561   20.08553692  54.59815003 148.4131591 ]\n",
      "[ 0.84147098  0.90929743  0.14112001 -0.7568025  -0.95892427]\n",
      "[0.         0.69314718 1.09861229 1.38629436 1.60943791]\n"
     ]
    }
   ],
   "source": [
    "## Universal function\n",
    "arr1 = np.array([1,2,3,4,5])\n",
    "\n",
    "# square root\n",
    "print(np.sqrt(arr1))\n",
    "\n",
    "# exponential\n",
    "print(np.exp(arr1))\n",
    "\n",
    "## sine\n",
    "print(np.sin(arr1))\n",
    "\n",
    "## natural log\n",
    "print(np.log(arr1))"
   ]
  },
  {
   "cell_type": "code",
   "execution_count": 38,
   "id": "1b3b2dff",
   "metadata": {},
   "outputs": [
    {
     "name": "stdout",
     "output_type": "stream",
     "text": [
      "[[ 1  2  3  4  5]\n",
      " [ 6  7  8  9 10]\n",
      " [11 12 13 14 15]]\n"
     ]
    }
   ],
   "source": [
    "## slicing operation\n",
    "\n",
    "arr = np.array([[1,2,3,4,5], [6,7, 8, 9, 10], [11,12,13,14,15]])\n",
    "\n",
    "print(arr)"
   ]
  },
  {
   "cell_type": "code",
   "execution_count": 47,
   "id": "b913acfd",
   "metadata": {},
   "outputs": [
    {
     "data": {
      "text/plain": [
       "array([[ 7,  8,  9],\n",
       "       [12, 13, 14]])"
      ]
     },
     "execution_count": 47,
     "metadata": {},
     "output_type": "execute_result"
    }
   ],
   "source": [
    "arr[1:, 1:4]"
   ]
  },
  {
   "cell_type": "code",
   "execution_count": 49,
   "id": "a14d726c",
   "metadata": {},
   "outputs": [
    {
     "data": {
      "text/plain": [
       "array([[ 9, 10],\n",
       "       [14, 15]])"
      ]
     },
     "execution_count": 49,
     "metadata": {},
     "output_type": "execute_result"
    }
   ],
   "source": [
    "arr[1:, 3:]"
   ]
  },
  {
   "cell_type": "code",
   "execution_count": 51,
   "id": "4fff4529",
   "metadata": {},
   "outputs": [
    {
     "data": {
      "text/plain": [
       "array([[100,   2,   3,   4,   5],\n",
       "       [  6,   7,   8,   9,  10],\n",
       "       [ 11,  12,  13,  14,  15]])"
      ]
     },
     "execution_count": 51,
     "metadata": {},
     "output_type": "execute_result"
    }
   ],
   "source": [
    "## modify the arr\n",
    "arr[0, 0] = 100\n",
    "arr"
   ]
  },
  {
   "cell_type": "code",
   "execution_count": 53,
   "id": "7dd117f1",
   "metadata": {},
   "outputs": [
    {
     "data": {
      "text/plain": [
       "array([[100,   2,   3,   4,   5],\n",
       "       [  6,   7, 100, 100, 100],\n",
       "       [ 11,  12, 100, 100, 100]])"
      ]
     },
     "execution_count": 53,
     "metadata": {},
     "output_type": "execute_result"
    }
   ],
   "source": [
    "arr[1:, 2:] = 100\n",
    "arr"
   ]
  },
  {
   "cell_type": "code",
   "execution_count": 5,
   "id": "ae2156a7",
   "metadata": {},
   "outputs": [
    {
     "name": "stdout",
     "output_type": "stream",
     "text": [
      "Normalize data : [-1.41421356 -0.70710678  0.          0.70710678  1.41421356]\n"
     ]
    }
   ],
   "source": [
    "## statistical concepts -> Normalization\n",
    "## to have a mean of 0 and standard deviation of 1\n",
    "\n",
    "data = np.array([1,2,3,4,5])\n",
    "\n",
    "# calculate the mean and standard deviation\n",
    "mean = np.mean(data)\n",
    "std_dev = np.std(data)\n",
    "\n",
    "## Normalize the data\n",
    "normalize_data = (data-mean)/std_dev\n",
    "print(\"Normalize data :\", normalize_data)"
   ]
  },
  {
   "cell_type": "code",
   "execution_count": 6,
   "id": "fcad1723",
   "metadata": {},
   "outputs": [
    {
     "name": "stdout",
     "output_type": "stream",
     "text": [
      "Mean :  3.0\n",
      "Standard deviation :  1.4142135623730951\n",
      "Median :  3.0\n",
      "Variance :  2.0\n"
     ]
    }
   ],
   "source": [
    "## statistical concepts\n",
    "data = np.array([1,2,3,4,5])\n",
    "\n",
    "## mean\n",
    "mean = np.mean(data)\n",
    "print(\"Mean : \", mean)\n",
    "\n",
    "std_dev = np.std(data)\n",
    "print(\"Standard deviation : \", std_dev)\n",
    "\n",
    "median = np.median(data)\n",
    "print(\"Median : \", median)\n",
    "\n",
    "variance = np.var(data)\n",
    "print(\"Variance : \", variance)"
   ]
  },
  {
   "cell_type": "code",
   "execution_count": 11,
   "id": "d8c4dd41",
   "metadata": {},
   "outputs": [
    {
     "data": {
      "text/plain": [
       "array([3, 4, 5, 6, 7, 8])"
      ]
     },
     "execution_count": 11,
     "metadata": {},
     "output_type": "execute_result"
    }
   ],
   "source": [
    "## Logical operations\n",
    "\n",
    "arr = np.array([1,2,3,4,5,6,7,8,9])\n",
    "\n",
    "arr[(arr <= 8) & (arr >= 3)]"
   ]
  }
 ],
 "metadata": {
  "kernelspec": {
   "display_name": "Python 3",
   "language": "python",
   "name": "python3"
  },
  "language_info": {
   "codemirror_mode": {
    "name": "ipython",
    "version": 3
   },
   "file_extension": ".py",
   "mimetype": "text/x-python",
   "name": "python",
   "nbconvert_exporter": "python",
   "pygments_lexer": "ipython3",
   "version": "3.10.0"
  }
 },
 "nbformat": 4,
 "nbformat_minor": 5
}
