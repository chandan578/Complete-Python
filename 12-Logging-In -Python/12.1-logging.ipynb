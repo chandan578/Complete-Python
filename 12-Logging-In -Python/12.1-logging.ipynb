{
 "cells": [
  {
   "cell_type": "markdown",
   "id": "4e5871d1",
   "metadata": {},
   "source": [
    "## Python Logging"
   ]
  },
  {
   "cell_type": "markdown",
   "id": "c732c703",
   "metadata": {},
   "source": [
    "Logging is a way to track events that happen when some software runs. The logging module in Python is a standard module that provides a flexible framework for emitting log messages from Python programs. It is used to track events that happen during execution, which can be useful for debugging and monitoring applications."
   ]
  },
  {
   "cell_type": "code",
   "execution_count": 1,
   "id": "dc717cc2",
   "metadata": {},
   "outputs": [
    {
     "name": "stderr",
     "output_type": "stream",
     "text": [
      "DEBUG:root:This is a debug message..\n",
      "INFO:root:This is an info message..\n",
      "WARNING:root:This is a warning message..\n",
      "ERROR:root:This is an error message.\n",
      "CRITICAL:root:This is a critical message..\n"
     ]
    }
   ],
   "source": [
    "import logging\n",
    "\n",
    "## configure the basic logging settings\n",
    "logging.basicConfig(level=logging.DEBUG)\n",
    "\n",
    "## log message with different severity levels\n",
    "logging.debug(\"This is a debug message..\")\n",
    "logging.info(\"This is an info message..\")\n",
    "logging.warning(\"This is a warning message..\")\n",
    "logging.error(\"This is an error message.\")\n",
    "logging.critical(\"This is a critical message..\")"
   ]
  },
  {
   "cell_type": "markdown",
   "id": "58207ee0",
   "metadata": {},
   "source": [
    "Log Levels:\n",
    "- DEBUG: Detailed information, typically of interest only when diagnosing problems. \n",
    "- INFO: Confirmation that things are working as expected.\n",
    "- WARNING: An indication that something unexpected happened, or indicative of some problem in the near future (e.g., ‘disk space low’). The software is still working as expected.\n",
    "- ERROR: Due to a more serious problem, the software has not been able to perform some function.\n",
    "- CRITICAL: A very serious error, indicating that the program itself may be unable to continue execution.\n"
   ]
  },
  {
   "cell_type": "code",
   "execution_count": 2,
   "id": "7d99c317",
   "metadata": {},
   "outputs": [],
   "source": [
    "## configure logging\n",
    "import logging\n",
    "\n",
    "logging.basicConfig(\n",
    "    filename='app.log',\n",
    "    filemode='w',\n",
    "    level=logging.DEBUG,\n",
    "    format='%(asctime)s-%(name)s-%(levelname)s-%(message)s',\n",
    "    datefmt='%Y-%m-%d %H:%M:%S'\n",
    ")\n",
    "\n",
    "## log message with different severity levels\n",
    "logging.debug(\"This is a debug message\")\n",
    "logging.info(\"This is an info message\")\n",
    "logging.warning(\"This is a warning message\")\n",
    "logging.critical(\"This is a critical message.\")"
   ]
  },
  {
   "cell_type": "code",
   "execution_count": 3,
   "id": "212cf8af",
   "metadata": {},
   "outputs": [],
   "source": [
    "## log message with different severity levels\n",
    "logging.debug(\"This is a debug message\")\n",
    "logging.info(\"This is an info message\")\n",
    "logging.warning(\"This is a warning message\")\n",
    "logging.critical(\"This is a critical message.\")"
   ]
  }
 ],
 "metadata": {
  "kernelspec": {
   "display_name": "Python 3",
   "language": "python",
   "name": "python3"
  },
  "language_info": {
   "codemirror_mode": {
    "name": "ipython",
    "version": 3
   },
   "file_extension": ".py",
   "mimetype": "text/x-python",
   "name": "python",
   "nbconvert_exporter": "python",
   "pygments_lexer": "ipython3",
   "version": "3.10.0"
  }
 },
 "nbformat": 4,
 "nbformat_minor": 5
}
