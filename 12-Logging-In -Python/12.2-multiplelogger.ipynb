{
 "cells": [
  {
   "cell_type": "markdown",
   "id": "c70b02a4",
   "metadata": {},
   "source": [
    "## Logging with multiple loggers"
   ]
  },
  {
   "cell_type": "markdown",
   "id": "c86d388b",
   "metadata": {},
   "source": [
    "You can create multiple loggers in Python to handle different logging needs. Each logger can have its own configuration, such as log level, handlers, and formatters. This allows you to separate logs for different parts of your application or for different purposes."
   ]
  },
  {
   "cell_type": "code",
   "execution_count": 2,
   "id": "6e7e3d72",
   "metadata": {},
   "outputs": [],
   "source": [
    "import logging\n",
    "## create a logger for module1\n",
    "logger1 = logging.getLogger('module1')\n",
    "logger1.setLevel(logging.DEBUG)\n",
    "\n",
    "## create a logger for module2\n",
    "logger2 = logging.getLogger('module2')\n",
    "logger2.setLevel(logging.WARNING)\n",
    "\n",
    "## configure logging settings\n",
    "logging.basicConfig(\n",
    "    level=logging.DEBUG,\n",
    "    format='%(asctime)s - %(name)s - %(levelname)s - %(message)s',\n",
    "    datefmt='%Y-%m-%d %H:%M:%S'\n",
    ")"
   ]
  },
  {
   "cell_type": "code",
   "execution_count": 4,
   "id": "8a90b27d",
   "metadata": {},
   "outputs": [
    {
     "name": "stderr",
     "output_type": "stream",
     "text": [
      "2025-08-04 08:12:32 - module1 - DEBUG - This is debug message\n",
      "2025-08-04 08:12:32 - module2 - WARNING - This is warning message\n",
      "2025-08-04 08:12:32 - module2 - ERROR - This is error message\n"
     ]
    }
   ],
   "source": [
    "## log messages with different loggers\n",
    "logger1.debug(\"This is debug message\")\n",
    "logger2.warning('This is warning message')\n",
    "logger2.error(\"This is error message\")"
   ]
  }
 ],
 "metadata": {
  "kernelspec": {
   "display_name": "Python 3",
   "language": "python",
   "name": "python3"
  },
  "language_info": {
   "codemirror_mode": {
    "name": "ipython",
    "version": 3
   },
   "file_extension": ".py",
   "mimetype": "text/x-python",
   "name": "python",
   "nbconvert_exporter": "python",
   "pygments_lexer": "ipython3",
   "version": "3.10.0"
  }
 },
 "nbformat": 4,
 "nbformat_minor": 5
}
