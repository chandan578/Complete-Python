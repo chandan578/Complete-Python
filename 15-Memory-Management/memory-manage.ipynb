{
 "cells": [
  {
   "cell_type": "markdown",
   "id": "46b7f774",
   "metadata": {},
   "source": [
    "## Memory Management in Python\n",
    "Python uses an automatic memory management system that includes a private heap containing all Python objects and data structures. The management of this private heap is ensured internally by the Python memory manager.\n",
    "### Key Concepts\n",
    "1. **Reference Counting**: Python primarily uses reference counting to keep track of the number of references to each object in memory. When an object's reference count drops to zero, it is automatically deallocated.\n",
    "2. **Garbage Collection**: In addition to reference counting, Python has a built-in garbage collector to handle cyclic references (where two or more objects reference each other, preventing their reference counts from reaching zero).\n",
    "3. **Memory Pools**: Python uses a system of memory pools to manage small objects efficiently. This helps reduce fragmentation and improves performance for frequently created and destroyed objects.\n"
   ]
  },
  {
   "cell_type": "markdown",
   "id": "eb2de19c",
   "metadata": {},
   "source": [
    "## Reference Counting \n",
    "Python uses reference counting as the primary mechanism for memory management. Each object in Python maintains a count of the number of references pointing to it. When an object's reference count drops to zero, the memory occupied by that object is immediately deallocated.\n"
   ]
  },
  {
   "cell_type": "code",
   "execution_count": null,
   "id": "ac7cb347",
   "metadata": {},
   "outputs": [
    {
     "name": "stdout",
     "output_type": "stream",
     "text": [
      "2\n"
     ]
    }
   ],
   "source": [
    "\n",
    "import sys\n",
    "\n",
    "a = []\n",
    "\n",
    "print(sys.getrefcount(a))\n",
    "b = []"
   ]
  },
  {
   "cell_type": "code",
   "execution_count": null,
   "id": "99054913",
   "metadata": {},
   "outputs": [
    {
     "name": "stdout",
     "output_type": "stream",
     "text": [
      "2\n"
     ]
    }
   ],
   "source": [
    "del b \n",
    "print(sys.getrefcount(a))"
   ]
  },
  {
   "cell_type": "markdown",
   "id": "af075afa",
   "metadata": {},
   "source": [
    "## Garbage Collection\n",
    "In addition to reference counting, Python employs a cyclic garbage collector to identify and clean up objects that\n",
    "# --- IGNORE ---\n",
    "are part of reference cycles. This is particularly important for objects that reference each other, as their reference counts may never reach zero through normal reference counting alone.\n"
   ]
  },
  {
   "cell_type": "code",
   "execution_count": 8,
   "id": "c922997b",
   "metadata": {},
   "outputs": [],
   "source": [
    "import gc\n",
    "\n",
    "## enable garbage collection\n",
    "gc.enable()"
   ]
  },
  {
   "cell_type": "code",
   "execution_count": 11,
   "id": "155b5c33",
   "metadata": {},
   "outputs": [],
   "source": [
    "gc.disable()"
   ]
  },
  {
   "cell_type": "code",
   "execution_count": 13,
   "id": "6816379e",
   "metadata": {},
   "outputs": [
    {
     "data": {
      "text/plain": [
       "16"
      ]
     },
     "execution_count": 13,
     "metadata": {},
     "output_type": "execute_result"
    }
   ],
   "source": [
    "gc.collect()"
   ]
  },
  {
   "cell_type": "code",
   "execution_count": 14,
   "id": "02d93a68",
   "metadata": {},
   "outputs": [
    {
     "name": "stdout",
     "output_type": "stream",
     "text": [
      "[{'collections': 233, 'collected': 2284, 'uncollectable': 0}, {'collections': 21, 'collected': 514, 'uncollectable': 0}, {'collections': 3, 'collected': 802, 'uncollectable': 0}]\n"
     ]
    }
   ],
   "source": [
    "## garbage collection stats\n",
    "print(gc.get_stats())"
   ]
  },
  {
   "cell_type": "code",
   "execution_count": null,
   "id": "b6da425b",
   "metadata": {},
   "outputs": [
    {
     "data": {
      "text/plain": [
       "[]"
      ]
     },
     "execution_count": 15,
     "metadata": {},
     "output_type": "execute_result"
    }
   ],
   "source": [
    "## get unreachable objects.\n",
    "gc.garbage"
   ]
  },
  {
   "cell_type": "markdown",
   "id": "cfc71972",
   "metadata": {},
   "source": [
    "## Memory Management Best Practices\n",
    "### 1. Use Local Variables\n",
    "Local variables are stored in a fixed-size array, which makes access to them very fast. The size of this array is determined at compile time, which means that the number of local variables must be known before the function is executed.\n",
    "### 2. Avoid Global Variables\n",
    "Global variables are stored in a dictionary, which makes access to them slower than local variables. The size of this dictionary can change at runtime, which means that the number of global variables can be changed while the program is running.\n",
    "### 3. Use Generators\n",
    "Generators are a type of iterable that can be used to create sequences of values on-the-fly, without the need to store all the values in memory at once. This can be very useful for working with large datasets or for creating infinite sequences of values.\n",
    "### 4. Explicitly Delete Unused Objects\n",
    "When you are done using an object, you can explicitly delete it using the `del` statement. This will remove the reference to the object from the current scope, which will allow the garbage collector to reclaim the memory used by the object if there are no other references to it.\n",
    "### 5. Profile Memory leaks\n",
    "Use memory profiling tools to identify memory leaks in your code. Memory leaks can occur when objects are not properly deallocated, which can lead to increased memory usage over time.\n"
   ]
  },
  {
   "cell_type": "code",
   "execution_count": 32,
   "id": "342499c9",
   "metadata": {},
   "outputs": [
    {
     "name": "stdout",
     "output_type": "stream",
     "text": [
      "Object Obj1 created..\n",
      "Object Obj2 created..\n",
      "Object Obj1 deleted..\n",
      "Object Obj2 deleted..\n"
     ]
    },
    {
     "data": {
      "text/plain": [
       "1086"
      ]
     },
     "execution_count": 32,
     "metadata": {},
     "output_type": "execute_result"
    }
   ],
   "source": [
    "## Handle circular reference variable..\n",
    "import gc\n",
    "\n",
    "class MyObject:\n",
    "    def __init__(self, name):\n",
    "        self.name = name\n",
    "        print(f\"Object {self.name} created..\")\n",
    "    \n",
    "    def __del__(self):\n",
    "        print(f\"Object {self.name} deleted..\")\n",
    "\n",
    "\n",
    "## object created\n",
    "obj1 = MyObject(\"Obj1\")\n",
    "obj2 = MyObject(\"Obj2\")\n",
    "\n",
    "## create circular reference \n",
    "obj1.ref = obj2\n",
    "obj2.ref = obj1\n",
    "\n",
    "del obj1\n",
    "del obj2\n",
    "\n",
    "##  manually trigger the garbage collection..\n",
    "gc.collect()"
   ]
  },
  {
   "cell_type": "code",
   "execution_count": 27,
   "id": "c98e283f",
   "metadata": {},
   "outputs": [
    {
     "name": "stdout",
     "output_type": "stream",
     "text": [
      "0\n",
      "1\n",
      "2\n",
      "3\n",
      "4\n",
      "5\n",
      "6\n",
      "7\n",
      "8\n",
      "9\n",
      "10\n",
      "11\n"
     ]
    }
   ],
   "source": [
    "## Generators\n",
    "def generators_number(number):\n",
    "    for i in range(number):\n",
    "        yield i\n",
    "\n",
    "## using the generator\n",
    "for i in generators_number(10000):\n",
    "    print(i)\n",
    "    if i>10:\n",
    "        break"
   ]
  },
  {
   "cell_type": "code",
   "execution_count": 33,
   "id": "67158e31",
   "metadata": {},
   "outputs": [],
   "source": [
    "## Profiling Memory USage with tracemalloc\n",
    "import tracemalloc\n",
    "\n",
    "def create_list():\n",
    "    return [i for i in range(10000)]\n",
    "\n",
    "def main():\n",
    "    tracemalloc.start()\n",
    "    \n",
    "    create_list()\n",
    "    \n",
    "    snapshot = tracemalloc.take_snapshot()\n",
    "    top_stats = snapshot.statistics('lineno')\n",
    "    \n",
    "    print(\"[ Top 10 ]\")\n",
    "    for stat in top_stats[::]:\n",
    "        print(stat)\n"
   ]
  },
  {
   "cell_type": "code",
   "execution_count": 34,
   "id": "d1947612",
   "metadata": {},
   "outputs": [
    {
     "name": "stdout",
     "output_type": "stream",
     "text": [
      "[ Top 10 ]\n",
      "c:\\Coding\\AI_ML_DL\\start_course\\venv\\lib\\tokenize.py:530: size=8904 B, count=159, average=56 B\n",
      "c:\\Coding\\AI_ML_DL\\start_course\\venv\\lib\\json\\decoder.py:353: size=5693 B, count=63, average=90 B\n",
      "c:\\Coding\\AI_ML_DL\\start_course\\venv\\lib\\codeop.py:150: size=4775 B, count=68, average=70 B\n",
      "c:\\Coding\\AI_ML_DL\\start_course\\venv\\lib\\site-packages\\traitlets\\traitlets.py:1514: size=4536 B, count=27, average=168 B\n",
      "c:\\Coding\\AI_ML_DL\\start_course\\venv\\lib\\site-packages\\IPython\\core\\compilerop.py:174: size=3113 B, count=40, average=78 B\n",
      "c:\\Coding\\AI_ML_DL\\start_course\\venv\\lib\\site-packages\\zmq\\sugar\\attrsettr.py:45: size=2530 B, count=46, average=55 B\n",
      "c:\\Coding\\AI_ML_DL\\start_course\\venv\\lib\\site-packages\\ipykernel\\iostream.py:287: size=2296 B, count=13, average=177 B\n",
      "c:\\Coding\\AI_ML_DL\\start_course\\venv\\lib\\site-packages\\traitlets\\traitlets.py:731: size=2241 B, count=32, average=70 B\n",
      "c:\\Coding\\AI_ML_DL\\start_course\\venv\\lib\\site-packages\\ipykernel\\iostream.py:346: size=1968 B, count=17, average=116 B\n",
      "c:\\Coding\\AI_ML_DL\\start_course\\venv\\lib\\site-packages\\ipykernel\\iostream.py:276: size=1952 B, count=14, average=139 B\n",
      "c:\\Coding\\AI_ML_DL\\start_course\\venv\\lib\\enum.py:384: size=1648 B, count=5, average=330 B\n",
      "C:\\Users\\chandan kumar\\AppData\\Local\\Temp\\ipykernel_11844\\1991730831.py:4: size=1640 B, count=7, average=234 B\n",
      "c:\\Coding\\AI_ML_DL\\start_course\\venv\\lib\\site-packages\\traitlets\\traitlets.py:1543: size=1573 B, count=23, average=68 B\n",
      "c:\\Coding\\AI_ML_DL\\start_course\\venv\\lib\\site-packages\\IPython\\core\\compilerop.py:86: size=1493 B, count=26, average=57 B\n",
      "c:\\Coding\\AI_ML_DL\\start_course\\venv\\lib\\site-packages\\jupyter_client\\session.py:95: size=1243 B, count=8, average=155 B\n",
      "c:\\Coding\\AI_ML_DL\\start_course\\venv\\lib\\asyncio\\events.py:80: size=1200 B, count=8, average=150 B\n",
      "c:\\Coding\\AI_ML_DL\\start_course\\venv\\lib\\logging\\__init__.py:283: size=1190 B, count=2, average=595 B\n",
      "c:\\Coding\\AI_ML_DL\\start_course\\venv\\lib\\site-packages\\ipykernel\\kernelbase.py:534: size=1184 B, count=3, average=395 B\n",
      "c:\\Coding\\AI_ML_DL\\start_course\\venv\\lib\\signal.py:30: size=1104 B, count=4, average=276 B\n",
      "c:\\Coding\\AI_ML_DL\\start_course\\venv\\lib\\site-packages\\jupyter_client\\jsonutil.py:111: size=1102 B, count=19, average=58 B\n",
      "c:\\Coding\\AI_ML_DL\\start_course\\venv\\lib\\site-packages\\zmq\\sugar\\socket.py:811: size=1056 B, count=6, average=176 B\n",
      "c:\\Coding\\AI_ML_DL\\start_course\\venv\\lib\\site-packages\\IPython\\core\\history.py:782: size=958 B, count=3, average=319 B\n",
      "c:\\Coding\\AI_ML_DL\\start_course\\venv\\lib\\signal.py:48: size=944 B, count=2, average=472 B\n",
      "c:\\Coding\\AI_ML_DL\\start_course\\venv\\lib\\site-packages\\jupyter_client\\session.py:1057: size=897 B, count=7, average=128 B\n",
      "c:\\Coding\\AI_ML_DL\\start_course\\venv\\lib\\site-packages\\jupyter_client\\session.py:1085: size=888 B, count=3, average=296 B\n",
      "c:\\Coding\\AI_ML_DL\\start_course\\venv\\lib\\site-packages\\jupyter_client\\jsonutil.py:75: size=888 B, count=3, average=296 B\n",
      "c:\\Coding\\AI_ML_DL\\start_course\\venv\\lib\\tokenize.py:506: size=784 B, count=14, average=56 B\n",
      "c:\\Coding\\AI_ML_DL\\start_course\\venv\\lib\\site-packages\\IPython\\core\\history.py:836: size=744 B, count=7, average=106 B\n",
      "c:\\Coding\\AI_ML_DL\\start_course\\venv\\lib\\inspect.py:2395: size=632 B, count=1, average=632 B\n",
      "C:\\Users\\chandan kumar\\AppData\\Local\\Temp\\ipykernel_11844\\3835544042.py:5: size=632 B, count=1, average=632 B\n",
      "c:\\Coding\\AI_ML_DL\\start_course\\venv\\lib\\logging\\__init__.py:1671: size=630 B, count=2, average=315 B\n",
      "c:\\Coding\\AI_ML_DL\\start_course\\venv\\lib\\logging\\__init__.py:1540: size=626 B, count=2, average=313 B\n",
      "C:\\Users\\chandan kumar\\AppData\\Local\\Temp\\ipykernel_11844\\1991730831.py:25: size=612 B, count=3, average=204 B\n",
      "c:\\Coding\\AI_ML_DL\\start_course\\venv\\lib\\site-packages\\ipykernel\\zmqshell.py:549: size=608 B, count=5, average=122 B\n",
      "c:\\Coding\\AI_ML_DL\\start_course\\venv\\lib\\tracemalloc.py:533: size=568 B, count=1, average=568 B\n",
      "c:\\Coding\\AI_ML_DL\\start_course\\venv\\lib\\site-packages\\zmq\\sugar\\socket.py:760: size=552 B, count=2, average=276 B\n",
      "c:\\Coding\\AI_ML_DL\\start_course\\venv\\lib\\threading.py:600: size=528 B, count=1, average=528 B\n",
      "c:\\Coding\\AI_ML_DL\\start_course\\venv\\lib\\site-packages\\ipykernel\\iostream.py:609: size=528 B, count=1, average=528 B\n",
      "C:\\Users\\chandan kumar\\AppData\\Local\\Temp\\ipykernel_11844\\3835544042.py:10: size=528 B, count=1, average=528 B\n",
      "c:\\Coding\\AI_ML_DL\\start_course\\venv\\lib\\site-packages\\zmq\\eventloop\\zmqstream.py:642: size=504 B, count=3, average=168 B\n",
      "c:\\Coding\\AI_ML_DL\\start_course\\venv\\lib\\inspect.py:156: size=504 B, count=3, average=168 B\n",
      "c:\\Coding\\AI_ML_DL\\start_course\\venv\\lib\\site-packages\\tornado\\platform\\asyncio.py:202: size=496 B, count=1, average=496 B\n",
      "c:\\Coding\\AI_ML_DL\\start_course\\venv\\lib\\enum.py:969: size=496 B, count=1, average=496 B\n",
      "c:\\Coding\\AI_ML_DL\\start_course\\venv\\lib\\site-packages\\zmq\\eventloop\\zmqstream.py:630: size=488 B, count=1, average=488 B\n",
      "c:\\Coding\\AI_ML_DL\\start_course\\venv\\lib\\site-packages\\jupyter_client\\session.py:1082: size=488 B, count=1, average=488 B\n",
      "c:\\Coding\\AI_ML_DL\\start_course\\venv\\lib\\site-packages\\IPython\\core\\interactiveshell.py:3579: size=488 B, count=1, average=488 B\n",
      "c:\\Coding\\AI_ML_DL\\start_course\\venv\\lib\\selectors.py:324: size=488 B, count=1, average=488 B\n",
      "c:\\Coding\\AI_ML_DL\\start_course\\venv\\lib\\site-packages\\ipykernel\\kernelbase.py:445: size=464 B, count=1, average=464 B\n",
      "c:\\Coding\\AI_ML_DL\\start_course\\venv\\lib\\site-packages\\IPython\\core\\history.py:908: size=464 B, count=1, average=464 B\n",
      "C:\\Users\\chandan kumar\\AppData\\Local\\Temp\\ipykernel_11844\\3835544042.py:13: size=448 B, count=1, average=448 B\n",
      "c:\\Coding\\AI_ML_DL\\start_course\\venv\\lib\\site-packages\\ipykernel\\kernelbase.py:460: size=440 B, count=1, average=440 B\n",
      "C:\\Users\\chandan kumar\\AppData\\Local\\Temp\\ipykernel_11844\\1991730831.py:15: size=424 B, count=1, average=424 B\n",
      "c:\\Coding\\AI_ML_DL\\start_course\\venv\\lib\\logging\\__init__.py:1715: size=420 B, count=2, average=210 B\n",
      "c:\\Coding\\AI_ML_DL\\start_course\\venv\\lib\\tracemalloc.py:560: size=416 B, count=1, average=416 B\n",
      "c:\\Coding\\AI_ML_DL\\start_course\\venv\\lib\\tracemalloc.py:423: size=416 B, count=1, average=416 B\n",
      "c:\\Coding\\AI_ML_DL\\start_course\\venv\\lib\\site-packages\\tornado\\ioloop.py:750: size=416 B, count=1, average=416 B\n",
      "c:\\Coding\\AI_ML_DL\\start_course\\venv\\lib\\logging\\__init__.py:1591: size=403 B, count=2, average=202 B\n",
      "c:\\Coding\\AI_ML_DL\\start_course\\venv\\lib\\site-packages\\IPython\\core\\history.py:783: size=401 B, count=1, average=401 B\n",
      "c:\\Coding\\AI_ML_DL\\start_course\\venv\\lib\\enum.py:699: size=384 B, count=4, average=96 B\n",
      "c:\\Coding\\AI_ML_DL\\start_course\\venv\\lib\\asyncio\\base_events.py:765: size=384 B, count=4, average=96 B\n",
      "c:\\Coding\\AI_ML_DL\\start_course\\venv\\lib\\threading.py:255: size=368 B, count=2, average=184 B\n",
      "c:\\Coding\\AI_ML_DL\\start_course\\venv\\lib\\site-packages\\ipykernel\\compiler.py:91: size=359 B, count=3, average=120 B\n",
      "c:\\Coding\\AI_ML_DL\\start_course\\venv\\lib\\tokenize.py:511: size=336 B, count=6, average=56 B\n",
      "c:\\Coding\\AI_ML_DL\\start_course\\venv\\lib\\site-packages\\ipykernel\\kernelbase.py:435: size=336 B, count=3, average=112 B\n",
      "c:\\Coding\\AI_ML_DL\\start_course\\venv\\lib\\site-packages\\zmq\\eventloop\\zmqstream.py:359: size=336 B, count=2, average=168 B\n",
      "c:\\Coding\\AI_ML_DL\\start_course\\venv\\lib\\site-packages\\jupyter_client\\session.py:672: size=336 B, count=2, average=168 B\n",
      "c:\\Coding\\AI_ML_DL\\start_course\\venv\\lib\\site-packages\\decorator.py:203: size=336 B, count=2, average=168 B\n",
      "c:\\Coding\\AI_ML_DL\\start_course\\venv\\lib\\site-packages\\tornado\\queues.py:248: size=320 B, count=2, average=160 B\n",
      "c:\\Coding\\AI_ML_DL\\start_course\\venv\\lib\\asyncio\\base_events.py:424: size=320 B, count=2, average=160 B\n",
      "c:\\Coding\\AI_ML_DL\\start_course\\venv\\lib\\site-packages\\IPython\\core\\history.py:790: size=320 B, count=1, average=320 B\n",
      "c:\\Coding\\AI_ML_DL\\start_course\\venv\\lib\\site-packages\\IPython\\core\\history.py:789: size=320 B, count=1, average=320 B\n",
      "c:\\Coding\\AI_ML_DL\\start_course\\venv\\lib\\site-packages\\ipykernel\\kernelbase.py:770: size=296 B, count=1, average=296 B\n",
      "c:\\Coding\\AI_ML_DL\\start_course\\venv\\lib\\site-packages\\ipykernel\\iostream.py:527: size=272 B, count=4, average=68 B\n",
      "c:\\Coding\\AI_ML_DL\\start_course\\venv\\lib\\asyncio\\events.py:33: size=256 B, count=4, average=64 B\n",
      "c:\\Coding\\AI_ML_DL\\start_course\\venv\\lib\\site-packages\\jupyter_client\\session.py:989: size=249 B, count=4, average=62 B\n",
      "c:\\Coding\\AI_ML_DL\\start_course\\venv\\lib\\site-packages\\decorator.py:232: size=240 B, count=4, average=60 B\n",
      "c:\\Coding\\AI_ML_DL\\start_course\\venv\\lib\\site-packages\\zmq\\sugar\\socket.py:808: size=240 B, count=3, average=80 B\n",
      "c:\\Coding\\AI_ML_DL\\start_course\\venv\\lib\\site-packages\\IPython\\core\\interactiveshell.py:3106: size=232 B, count=4, average=58 B\n",
      "c:\\Coding\\AI_ML_DL\\start_course\\venv\\lib\\tokenize.py:611: size=224 B, count=4, average=56 B\n",
      "c:\\Coding\\AI_ML_DL\\start_course\\venv\\lib\\tokenize.py:610: size=224 B, count=4, average=56 B\n",
      "c:\\Coding\\AI_ML_DL\\start_course\\venv\\lib\\asyncio\\futures.py:413: size=200 B, count=5, average=40 B\n",
      "c:\\Coding\\AI_ML_DL\\start_course\\venv\\lib\\site-packages\\jupyter_client\\session.py:688: size=194 B, count=2, average=97 B\n",
      "c:\\Coding\\AI_ML_DL\\start_course\\venv\\lib\\site-packages\\tornado\\platform\\asyncio.py:235: size=192 B, count=3, average=64 B\n",
      "c:\\Coding\\AI_ML_DL\\start_course\\venv\\lib\\site-packages\\jupyter_client\\session.py:750: size=192 B, count=2, average=96 B\n",
      "c:\\Coding\\AI_ML_DL\\start_course\\venv\\lib\\ntpath.py:203: size=186 B, count=2, average=93 B\n",
      "c:\\Coding\\AI_ML_DL\\start_course\\venv\\lib\\site-packages\\IPython\\core\\async_helpers.py:150: size=176 B, count=2, average=88 B\n",
      "c:\\Coding\\AI_ML_DL\\start_course\\venv\\lib\\site-packages\\ipykernel\\kernelbase.py:1182: size=173 B, count=2, average=86 B\n",
      "c:\\Coding\\AI_ML_DL\\start_course\\venv\\lib\\logging\\__init__.py:1576: size=173 B, count=2, average=86 B\n",
      "c:\\Coding\\AI_ML_DL\\start_course\\venv\\lib\\site-packages\\jupyter_client\\session.py:278: size=168 B, count=1, average=168 B\n",
      "c:\\Coding\\AI_ML_DL\\start_course\\venv\\lib\\inspect.py:3120: size=168 B, count=1, average=168 B\n",
      "c:\\Coding\\AI_ML_DL\\start_course\\venv\\lib\\inspect.py:2857: size=168 B, count=1, average=168 B\n",
      "c:\\Coding\\AI_ML_DL\\start_course\\venv\\lib\\asyncio\\selector_events.py:120: size=160 B, count=2, average=80 B\n",
      "c:\\Coding\\AI_ML_DL\\start_course\\venv\\lib\\site-packages\\IPython\\core\\history.py:805: size=159 B, count=3, average=53 B\n",
      "c:\\Coding\\AI_ML_DL\\start_course\\venv\\lib\\site-packages\\ipykernel\\kernelbase.py:775: size=152 B, count=2, average=76 B\n",
      "c:\\Coding\\AI_ML_DL\\start_course\\venv\\lib\\site-packages\\dateutil\\parser\\isoparser.py:146: size=144 B, count=3, average=48 B\n",
      "c:\\Coding\\AI_ML_DL\\start_course\\venv\\lib\\site-packages\\IPython\\core\\interactiveshell.py:259: size=144 B, count=3, average=48 B\n",
      "c:\\Coding\\AI_ML_DL\\start_course\\venv\\lib\\site-packages\\ipykernel\\iostream.py:722: size=144 B, count=2, average=72 B\n",
      "c:\\Coding\\AI_ML_DL\\start_course\\venv\\lib\\site-packages\\ipykernel\\kernelbase.py:570: size=144 B, count=1, average=144 B\n",
      "c:\\Coding\\AI_ML_DL\\start_course\\venv\\lib\\site-packages\\IPython\\core\\interactiveshell.py:3495: size=144 B, count=1, average=144 B\n",
      "c:\\Coding\\AI_ML_DL\\start_course\\venv\\lib\\site-packages\\IPython\\core\\interactiveshell.py:3239: size=144 B, count=1, average=144 B\n",
      "c:\\Coding\\AI_ML_DL\\start_course\\venv\\lib\\asyncio\\futures.py:391: size=144 B, count=1, average=144 B\n",
      "c:\\Coding\\AI_ML_DL\\start_course\\venv\\lib\\asyncio\\futures.py:384: size=144 B, count=1, average=144 B\n",
      "c:\\Coding\\AI_ML_DL\\start_course\\venv\\lib\\asyncio\\futures.py:378: size=144 B, count=1, average=144 B\n",
      "C:\\Users\\chandan kumar\\AppData\\Local\\Temp\\ipykernel_11844\\3835544042.py:7: size=144 B, count=1, average=144 B\n",
      "C:\\Users\\chandan kumar\\AppData\\Local\\Temp\\ipykernel_11844\\3835544042.py:4: size=144 B, count=1, average=144 B\n",
      "C:\\Users\\chandan kumar\\AppData\\Local\\Temp\\ipykernel_11844\\1991730831.py:9: size=144 B, count=1, average=144 B\n",
      "C:\\Users\\chandan kumar\\AppData\\Local\\Temp\\ipykernel_11844\\1991730831.py:5: size=144 B, count=1, average=144 B\n",
      "c:\\Coding\\AI_ML_DL\\start_course\\venv\\lib\\concurrent\\futures\\_base.py:319: size=128 B, count=2, average=64 B\n",
      "c:\\Coding\\AI_ML_DL\\start_course\\venv\\lib\\threading.py:101: size=120 B, count=2, average=60 B\n",
      "c:\\Coding\\AI_ML_DL\\start_course\\venv\\lib\\site-packages\\traitlets\\traitlets.py:1540: size=120 B, count=2, average=60 B\n",
      "c:\\Coding\\AI_ML_DL\\start_course\\venv\\lib\\tokenize.py:608: size=112 B, count=2, average=56 B\n",
      "c:\\Coding\\AI_ML_DL\\start_course\\venv\\lib\\tokenize.py:519: size=112 B, count=2, average=56 B\n",
      "c:\\Coding\\AI_ML_DL\\start_course\\venv\\lib\\tokenize.py:502: size=112 B, count=2, average=56 B\n",
      "c:\\Coding\\AI_ML_DL\\start_course\\venv\\lib\\site-packages\\ipykernel\\ipkernel.py:449: size=112 B, count=2, average=56 B\n",
      "c:\\Coding\\AI_ML_DL\\start_course\\venv\\lib\\site-packages\\IPython\\core\\interactiveshell.py:3377: size=112 B, count=2, average=56 B\n",
      "c:\\Coding\\AI_ML_DL\\start_course\\venv\\lib\\enum.py:701: size=112 B, count=2, average=56 B\n",
      "c:\\Coding\\AI_ML_DL\\start_course\\venv\\lib\\site-packages\\ipykernel\\kernelbase.py:545: size=112 B, count=1, average=112 B\n",
      "c:\\Coding\\AI_ML_DL\\start_course\\venv\\lib\\site-packages\\ipykernel\\ipkernel.py:362: size=112 B, count=1, average=112 B\n",
      "c:\\Coding\\AI_ML_DL\\start_course\\venv\\lib\\site-packages\\ipykernel\\iostream.py:121: size=112 B, count=1, average=112 B\n",
      "c:\\Coding\\AI_ML_DL\\start_course\\venv\\lib\\site-packages\\IPython\\core\\interactiveshell.py:3519: size=112 B, count=1, average=112 B\n",
      "c:\\Coding\\AI_ML_DL\\start_course\\venv\\lib\\site-packages\\IPython\\core\\interactiveshell.py:3336: size=112 B, count=1, average=112 B\n",
      "c:\\Coding\\AI_ML_DL\\start_course\\venv\\lib\\json\\encoder.py:248: size=112 B, count=1, average=112 B\n",
      "c:\\Coding\\AI_ML_DL\\start_course\\venv\\lib\\asyncio\\base_events.py:728: size=112 B, count=1, average=112 B\n",
      "c:\\Coding\\AI_ML_DL\\start_course\\venv\\lib\\genericpath.py:121: size=104 B, count=2, average=52 B\n",
      "c:\\Coding\\AI_ML_DL\\start_course\\venv\\lib\\inspect.py:1967: size=104 B, count=1, average=104 B\n",
      "c:\\Coding\\AI_ML_DL\\start_course\\venv\\lib\\site-packages\\IPython\\core\\displayhook.py:216: size=103 B, count=2, average=52 B\n",
      "c:\\Coding\\AI_ML_DL\\start_course\\venv\\lib\\site-packages\\jupyter_client\\session.py:996: size=96 B, count=3, average=32 B\n",
      "c:\\Coding\\AI_ML_DL\\start_course\\venv\\lib\\site-packages\\IPython\\core\\interactiveshell.py:3511: size=96 B, count=3, average=32 B\n",
      "c:\\Coding\\AI_ML_DL\\start_course\\venv\\lib\\asyncio\\base_events.py:1865: size=96 B, count=3, average=32 B\n",
      "c:\\Coding\\AI_ML_DL\\start_course\\venv\\lib\\site-packages\\IPython\\core\\interactiveshell.py:3226: size=96 B, count=2, average=48 B\n",
      "c:\\Coding\\AI_ML_DL\\start_course\\venv\\lib\\site-packages\\IPython\\core\\interactiveshell.py:3225: size=96 B, count=2, average=48 B\n",
      "c:\\Coding\\AI_ML_DL\\start_course\\venv\\lib\\logging\\__init__.py:806: size=96 B, count=2, average=48 B\n",
      "c:\\Coding\\AI_ML_DL\\start_course\\venv\\lib\\threading.py:258: size=96 B, count=1, average=96 B\n",
      "c:\\Coding\\AI_ML_DL\\start_course\\venv\\lib\\inspect.py:1976: size=96 B, count=1, average=96 B\n",
      "c:\\Coding\\AI_ML_DL\\start_course\\venv\\lib\\logging\\__init__.py:119: size=90 B, count=2, average=45 B\n",
      "c:\\Coding\\AI_ML_DL\\start_course\\venv\\lib\\asyncio\\base_events.py:713: size=80 B, count=2, average=40 B\n",
      "c:\\Coding\\AI_ML_DL\\start_course\\venv\\lib\\threading.py:1109: size=74 B, count=2, average=37 B\n",
      "c:\\Coding\\AI_ML_DL\\start_course\\venv\\lib\\threading.py:251: size=72 B, count=1, average=72 B\n",
      "c:\\Coding\\AI_ML_DL\\start_course\\venv\\lib\\threading.py:247: size=72 B, count=1, average=72 B\n",
      "c:\\Coding\\AI_ML_DL\\start_course\\venv\\lib\\threading.py:242: size=72 B, count=1, average=72 B\n",
      "c:\\Coding\\AI_ML_DL\\start_course\\venv\\lib\\threading.py:241: size=72 B, count=1, average=72 B\n",
      "c:\\Coding\\AI_ML_DL\\start_course\\venv\\lib\\site-packages\\IPython\\core\\history.py:851: size=72 B, count=1, average=72 B\n",
      "c:\\Coding\\AI_ML_DL\\start_course\\venv\\lib\\site-packages\\IPython\\core\\history.py:837: size=72 B, count=1, average=72 B\n",
      "c:\\Coding\\AI_ML_DL\\start_course\\venv\\lib\\site-packages\\IPython\\core\\history.py:834: size=72 B, count=1, average=72 B\n",
      "c:\\Coding\\AI_ML_DL\\start_course\\venv\\lib\\site-packages\\IPython\\core\\formatters.py:764: size=72 B, count=1, average=72 B\n",
      "c:\\Coding\\AI_ML_DL\\start_course\\venv\\lib\\asyncio\\selector_events.py:140: size=72 B, count=1, average=72 B\n",
      "c:\\Coding\\AI_ML_DL\\start_course\\venv\\lib\\site-packages\\zmq\\sugar\\socket.py:812: size=64 B, count=1, average=64 B\n",
      "c:\\Coding\\AI_ML_DL\\start_course\\venv\\lib\\site-packages\\zmq\\sugar\\socket.py:707: size=64 B, count=1, average=64 B\n",
      "c:\\Coding\\AI_ML_DL\\start_course\\venv\\lib\\site-packages\\jupyter_client\\session.py:1053: size=64 B, count=1, average=64 B\n",
      "c:\\Coding\\AI_ML_DL\\start_course\\venv\\lib\\site-packages\\ipykernel\\kernelbase.py:721: size=64 B, count=1, average=64 B\n",
      "c:\\Coding\\AI_ML_DL\\start_course\\venv\\lib\\site-packages\\ipykernel\\kernelbase.py:563: size=64 B, count=1, average=64 B\n",
      "c:\\Coding\\AI_ML_DL\\start_course\\venv\\lib\\site-packages\\ipykernel\\ipkernel.py:384: size=64 B, count=1, average=64 B\n",
      "c:\\Coding\\AI_ML_DL\\start_course\\venv\\lib\\site-packages\\ipykernel\\ipkernel.py:383: size=64 B, count=1, average=64 B\n",
      "c:\\Coding\\AI_ML_DL\\start_course\\venv\\lib\\site-packages\\ipykernel\\ipkernel.py:294: size=64 B, count=1, average=64 B\n",
      "c:\\Coding\\AI_ML_DL\\start_course\\venv\\lib\\site-packages\\ipykernel\\ipkernel.py:291: size=64 B, count=1, average=64 B\n",
      "c:\\Coding\\AI_ML_DL\\start_course\\venv\\lib\\site-packages\\IPython\\core\\interactiveshell.py:3568: size=64 B, count=1, average=64 B\n",
      "c:\\Coding\\AI_ML_DL\\start_course\\venv\\lib\\site-packages\\IPython\\core\\interactiveshell.py:3517: size=64 B, count=1, average=64 B\n",
      "c:\\Coding\\AI_ML_DL\\start_course\\venv\\lib\\site-packages\\IPython\\core\\interactiveshell.py:3305: size=64 B, count=1, average=64 B\n",
      "c:\\Coding\\AI_ML_DL\\start_course\\venv\\lib\\site-packages\\IPython\\core\\interactiveshell.py:3302: size=64 B, count=1, average=64 B\n",
      "c:\\Coding\\AI_ML_DL\\start_course\\venv\\lib\\contextlib.py:103: size=64 B, count=1, average=64 B\n",
      "c:\\Coding\\AI_ML_DL\\start_course\\venv\\lib\\asyncio\\futures.py:400: size=64 B, count=1, average=64 B\n",
      "c:\\Coding\\AI_ML_DL\\start_course\\venv\\lib\\site-packages\\ipykernel\\iostream.py:684: size=58 B, count=1, average=58 B\n",
      "c:\\Coding\\AI_ML_DL\\start_course\\venv\\lib\\site-packages\\IPython\\core\\compilerop.py:172: size=56 B, count=2, average=28 B\n",
      "c:\\Coding\\AI_ML_DL\\start_course\\venv\\lib\\site-packages\\IPython\\lib\\pretty.py:795: size=56 B, count=1, average=56 B\n",
      "c:\\Coding\\AI_ML_DL\\start_course\\venv\\lib\\selectors.py:322: size=56 B, count=1, average=56 B\n",
      "<string>:1: size=56 B, count=1, average=56 B\n",
      "c:\\Coding\\AI_ML_DL\\start_course\\venv\\lib\\site-packages\\IPython\\core\\prefilter.py:317: size=55 B, count=1, average=55 B\n",
      "c:\\Coding\\AI_ML_DL\\start_course\\venv\\lib\\site-packages\\IPython\\lib\\pretty.py:794: size=53 B, count=1, average=53 B\n",
      "c:\\Coding\\AI_ML_DL\\start_course\\venv\\lib\\site-packages\\IPython\\core\\displayhook.py:234: size=52 B, count=1, average=52 B\n",
      "c:\\Coding\\AI_ML_DL\\start_course\\venv\\lib\\logging\\__init__.py:1617: size=51 B, count=2, average=26 B\n",
      "c:\\Coding\\AI_ML_DL\\start_course\\venv\\lib\\asyncio\\base_events.py:1849: size=48 B, count=2, average=24 B\n",
      "c:\\Coding\\AI_ML_DL\\start_course\\venv\\lib\\site-packages\\jupyter_client\\session.py:200: size=48 B, count=1, average=48 B\n",
      "c:\\Coding\\AI_ML_DL\\start_course\\venv\\lib\\site-packages\\ipykernel\\kernelbase.py:318: size=48 B, count=1, average=48 B\n",
      "c:\\Coding\\AI_ML_DL\\start_course\\venv\\lib\\site-packages\\IPython\\core\\interactiveshell.py:3507: size=48 B, count=1, average=48 B\n",
      "c:\\Coding\\AI_ML_DL\\start_course\\venv\\lib\\site-packages\\IPython\\core\\history.py:835: size=48 B, count=1, average=48 B\n",
      "c:\\Coding\\AI_ML_DL\\start_course\\venv\\lib\\concurrent\\futures\\_base.py:327: size=48 B, count=1, average=48 B\n",
      "c:\\Coding\\AI_ML_DL\\start_course\\venv\\lib\\logging\\__init__.py:160: size=37 B, count=2, average=18 B\n",
      "c:\\Coding\\AI_ML_DL\\start_course\\venv\\lib\\site-packages\\ipykernel\\iostream.py:168: size=32 B, count=1, average=32 B\n",
      "c:\\Coding\\AI_ML_DL\\start_course\\venv\\lib\\site-packages\\IPython\\core\\interactiveshell.py:3505: size=32 B, count=1, average=32 B\n",
      "c:\\Coding\\AI_ML_DL\\start_course\\venv\\lib\\site-packages\\IPython\\core\\history.py:793: size=32 B, count=1, average=32 B\n",
      "c:\\Coding\\AI_ML_DL\\start_course\\venv\\lib\\selectors.py:338: size=32 B, count=1, average=32 B\n",
      "c:\\Coding\\AI_ML_DL\\start_course\\venv\\lib\\concurrent\\futures\\_base.py:410: size=32 B, count=1, average=32 B\n",
      "c:\\Coding\\AI_ML_DL\\start_course\\venv\\lib\\asyncio\\base_events.py:731: size=32 B, count=1, average=32 B\n",
      "c:\\Coding\\AI_ML_DL\\start_course\\venv\\lib\\site-packages\\jupyter_client\\session.py:603: size=28 B, count=1, average=28 B\n",
      "c:\\Coding\\AI_ML_DL\\start_course\\venv\\lib\\site-packages\\ipykernel\\iostream.py:637: size=28 B, count=1, average=28 B\n",
      "c:\\Coding\\AI_ML_DL\\start_course\\venv\\lib\\site-packages\\IPython\\core\\compilerop.py:192: size=28 B, count=1, average=28 B\n",
      "c:\\Coding\\AI_ML_DL\\start_course\\venv\\lib\\logging\\__init__.py:329: size=24 B, count=1, average=24 B\n",
      "c:\\Coding\\AI_ML_DL\\start_course\\venv\\lib\\site-packages\\IPython\\core\\interactiveshell.py:3487: size=8 B, count=1, average=8 B\n"
     ]
    }
   ],
   "source": [
    "main()"
   ]
  },
  {
   "cell_type": "code",
   "execution_count": null,
   "id": "c4c5d96c",
   "metadata": {},
   "outputs": [],
   "source": []
  }
 ],
 "metadata": {
  "kernelspec": {
   "display_name": "Python 3",
   "language": "python",
   "name": "python3"
  },
  "language_info": {
   "codemirror_mode": {
    "name": "ipython",
    "version": 3
   },
   "file_extension": ".py",
   "mimetype": "text/x-python",
   "name": "python",
   "nbconvert_exporter": "python",
   "pygments_lexer": "ipython3",
   "version": "3.10.0"
  }
 },
 "nbformat": 4,
 "nbformat_minor": 5
}
