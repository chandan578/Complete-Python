{
 "cells": [
  {
   "cell_type": "markdown",
   "id": "b6e8c7ff",
   "metadata": {},
   "source": [
    "## Decorators"
   ]
  },
  {
   "cell_type": "markdown",
   "id": "4f853ffa",
   "metadata": {},
   "source": [
    "A decorator in Python is a design pattern that allows you to add new functionality to an existing object without modifying its structure. Decorators are usually applied to functions or methods using the `@decorator_name` syntax. They work by wrapping another function and can be used for logging, access control, timing, and more. Decorators help keep code clean and reusable by separating concerns and enhancing functions transparently."
   ]
  },
  {
   "cell_type": "code",
   "execution_count": 3,
   "id": "0c4118fc",
   "metadata": {
    "vscode": {
     "languageId": "markdown"
    }
   },
   "outputs": [],
   "source": [
    "## function copy\n",
    "## closures\n",
    "## decorators"
   ]
  },
  {
   "cell_type": "code",
   "execution_count": 19,
   "id": "07f18ce7",
   "metadata": {},
   "outputs": [],
   "source": [
    "## function\n",
    "def welcome():\n",
    "    return \"welcome to the advance python learning...\"\n"
   ]
  },
  {
   "cell_type": "code",
   "execution_count": 20,
   "id": "121604a9",
   "metadata": {},
   "outputs": [
    {
     "data": {
      "text/plain": [
       "'welcome to the advance python learning...'"
      ]
     },
     "execution_count": 20,
     "metadata": {},
     "output_type": "execute_result"
    }
   ],
   "source": [
    "welcome()"
   ]
  },
  {
   "cell_type": "code",
   "execution_count": 21,
   "id": "0615d7a2",
   "metadata": {},
   "outputs": [
    {
     "data": {
      "text/plain": [
       "'welcome to the advance python learning...'"
      ]
     },
     "execution_count": 21,
     "metadata": {},
     "output_type": "execute_result"
    }
   ],
   "source": [
    "wel = welcome  ## copy one function to another function..\n",
    "wel\n",
    "wel()"
   ]
  },
  {
   "cell_type": "code",
   "execution_count": 22,
   "id": "2ea763a3",
   "metadata": {},
   "outputs": [
    {
     "name": "stdout",
     "output_type": "stream",
     "text": [
      "welcome to the advance python learning...\n",
      "welcome to the advance python learning...\n"
     ]
    }
   ],
   "source": [
    "print(wel())  ## \n",
    "del welcome  ## it delete then do not delete copy function..\n",
    "print(wel())"
   ]
  },
  {
   "cell_type": "code",
   "execution_count": 27,
   "id": "19ecbc32",
   "metadata": {},
   "outputs": [],
   "source": [
    "## Closures  --> means method inside a method\n",
    "\n",
    "def main_welcome(msg):\n",
    "    \n",
    "    def sub_main_welcome():\n",
    "        print(msg)\n",
    "        print(\"Welcome to the advance python..\")    \n",
    "        print(\"Learn these concepts and implement it...\")\n",
    "    return sub_main_welcome()"
   ]
  },
  {
   "cell_type": "code",
   "execution_count": 29,
   "id": "304f1aed",
   "metadata": {},
   "outputs": [
    {
     "name": "stdout",
     "output_type": "stream",
     "text": [
      "Welcome everyone..\n",
      "Welcome to the advance python..\n",
      "Learn these concepts and implement it...\n"
     ]
    }
   ],
   "source": [
    "main_welcome(\"Welcome everyone..\")"
   ]
  },
  {
   "cell_type": "code",
   "execution_count": 31,
   "id": "428e3309",
   "metadata": {},
   "outputs": [],
   "source": [
    "\n",
    "def main_welcome(func, lst):\n",
    "    \n",
    "    def sub_main_welcome():\n",
    "        print(\"Welcome to the advance python..\")  \n",
    "        print(func(lst))  \n",
    "        print(\"Learn these concepts and implement it...\")\n",
    "    return sub_main_welcome()"
   ]
  },
  {
   "cell_type": "code",
   "execution_count": 33,
   "id": "7ec286e9",
   "metadata": {},
   "outputs": [
    {
     "name": "stdout",
     "output_type": "stream",
     "text": [
      "Welcome to the advance python..\n",
      "6\n",
      "Learn these concepts and implement it...\n"
     ]
    }
   ],
   "source": [
    "main_welcome(len, [1,2,3,4,5,6])"
   ]
  },
  {
   "cell_type": "code",
   "execution_count": 38,
   "id": "4fdc7d41",
   "metadata": {},
   "outputs": [],
   "source": [
    "## Decorators\n",
    "\n",
    "\n",
    "def main_welcome(func):\n",
    "    \n",
    "    def sub_main_welcome():\n",
    "        print(\"Welcome to the advance python..\")  \n",
    "        func()  \n",
    "        print(\"Learn these concepts and implement it...\")\n",
    "    return sub_main_welcome()\n"
   ]
  },
  {
   "cell_type": "code",
   "execution_count": 43,
   "id": "4d7d59db",
   "metadata": {},
   "outputs": [
    {
     "name": "stdout",
     "output_type": "stream",
     "text": [
      "This is an advanced course..\n"
     ]
    }
   ],
   "source": [
    "def  course_introduction():\n",
    "    print(\"This is an advanced course..\")\n",
    "\n",
    "course_introduction()"
   ]
  },
  {
   "cell_type": "code",
   "execution_count": 47,
   "id": "e2c6b5e2",
   "metadata": {},
   "outputs": [
    {
     "name": "stdout",
     "output_type": "stream",
     "text": [
      "Welcome to the advance python..\n",
      "This is an advanced course..\n",
      "Learn these concepts and implement it...\n"
     ]
    }
   ],
   "source": [
    "main_welcome(course_introduction)"
   ]
  },
  {
   "cell_type": "code",
   "execution_count": 50,
   "id": "ce8e98be",
   "metadata": {},
   "outputs": [
    {
     "name": "stdout",
     "output_type": "stream",
     "text": [
      "Welcome to the advance python..\n",
      "this is advance python course..\n",
      "Learn these concepts and implement it...\n"
     ]
    }
   ],
   "source": [
    "@main_welcome\n",
    "def coure_introduction():\n",
    "    print(\"this is advance python course..\")"
   ]
  },
  {
   "cell_type": "code",
   "execution_count": 60,
   "id": "1733a584",
   "metadata": {},
   "outputs": [],
   "source": [
    "## decorator\n",
    "\n",
    "def my_decorator(func):\n",
    "    def wrapper():\n",
    "        print(\"Print anything....\")\n",
    "        func()\n",
    "        print(\"Print anything....\")\n",
    "    return wrapper\n"
   ]
  },
  {
   "cell_type": "code",
   "execution_count": 61,
   "id": "77e1aa3b",
   "metadata": {},
   "outputs": [],
   "source": [
    "@my_decorator\n",
    "def say_hello():\n",
    "    print(\"Hello munna..\")"
   ]
  },
  {
   "cell_type": "code",
   "execution_count": 64,
   "id": "29bfeabf",
   "metadata": {},
   "outputs": [
    {
     "name": "stdout",
     "output_type": "stream",
     "text": [
      "Print anything....\n",
      "Hello munna..\n",
      "Print anything....\n"
     ]
    }
   ],
   "source": [
    "say_hello()"
   ]
  },
  {
   "cell_type": "code",
   "execution_count": 66,
   "id": "0ff3c748",
   "metadata": {},
   "outputs": [],
   "source": [
    "## Decorators with arguments\n",
    "\n",
    "def repeat(n):\n",
    "    def decorator(func):\n",
    "        def wrapper(*args, **kwargs):\n",
    "            for i in range(n):\n",
    "                func(*args, **kwargs)\n",
    "        return wrapper\n",
    "    return decorator\n",
    "    "
   ]
  },
  {
   "cell_type": "code",
   "execution_count": 69,
   "id": "e8cf7c48",
   "metadata": {},
   "outputs": [],
   "source": [
    "@repeat(4)\n",
    "def say_hello():\n",
    "    print(\"Hello\")"
   ]
  },
  {
   "cell_type": "code",
   "execution_count": 70,
   "id": "10e16f5c",
   "metadata": {},
   "outputs": [
    {
     "name": "stdout",
     "output_type": "stream",
     "text": [
      "Hello\n",
      "Hello\n",
      "Hello\n",
      "Hello\n"
     ]
    }
   ],
   "source": [
    "say_hello()"
   ]
  }
 ],
 "metadata": {
  "kernelspec": {
   "display_name": "Python 3",
   "language": "python",
   "name": "python3"
  },
  "language_info": {
   "codemirror_mode": {
    "name": "ipython",
    "version": 3
   },
   "file_extension": ".py",
   "mimetype": "text/x-python",
   "name": "python",
   "nbconvert_exporter": "python",
   "pygments_lexer": "ipython3",
   "version": "3.10.0"
  }
 },
 "nbformat": 4,
 "nbformat_minor": 5
}
