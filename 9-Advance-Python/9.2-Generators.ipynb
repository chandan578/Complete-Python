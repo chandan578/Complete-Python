{
 "cells": [
  {
   "cell_type": "markdown",
   "id": "b38a2eaf",
   "metadata": {},
   "source": [
    "## Generators"
   ]
  },
  {
   "cell_type": "markdown",
   "id": "cc9c333b",
   "metadata": {},
   "source": [
    "### Generators in Python (Theory)\n",
    "\n",
    "Generators are a special type of iterable in Python that allow you to iterate over data without storing the entire sequence in memory. They are defined using functions and the `yield` keyword.\n",
    "\n",
    "**Key Points:**\n",
    "- Generators produce items one at a time and only when requested (lazy evaluation).\n",
    "- They are memory efficient for large datasets.\n",
    "- You can create a generator by defining a function with `yield` instead of `return`.\n",
    "- Generator expressions are similar to list comprehensions but use parentheses.\n",
    "\n"
   ]
  },
  {
   "cell_type": "code",
   "execution_count": 5,
   "id": "93e27301",
   "metadata": {},
   "outputs": [],
   "source": [
    "def squre(n):\n",
    "    for i in range(n):\n",
    "        yield i * i  # Using yield to produce a value and pause the function state"
   ]
  },
  {
   "cell_type": "code",
   "execution_count": 8,
   "id": "d76198bb",
   "metadata": {},
   "outputs": [
    {
     "name": "stdout",
     "output_type": "stream",
     "text": [
      "<generator object squre at 0x0000021724BDF370>\n"
     ]
    }
   ],
   "source": [
    "print(squre(3))"
   ]
  },
  {
   "cell_type": "code",
   "execution_count": 10,
   "id": "60d1c28c",
   "metadata": {},
   "outputs": [
    {
     "name": "stdout",
     "output_type": "stream",
     "text": [
      "0\n",
      "1\n",
      "4\n"
     ]
    }
   ],
   "source": [
    "for i in squre(3):\n",
    "    print(i)"
   ]
  },
  {
   "cell_type": "code",
   "execution_count": 43,
   "id": "56075614",
   "metadata": {},
   "outputs": [
    {
     "data": {
      "text/plain": [
       "<generator object squre at 0x0000021724BDEB90>"
      ]
     },
     "execution_count": 43,
     "metadata": {},
     "output_type": "execute_result"
    }
   ],
   "source": [
    "a = squre(5)\n",
    "a"
   ]
  },
  {
   "cell_type": "code",
   "execution_count": 44,
   "id": "d0ca5d70",
   "metadata": {},
   "outputs": [
    {
     "data": {
      "text/plain": [
       "0"
      ]
     },
     "execution_count": 44,
     "metadata": {},
     "output_type": "execute_result"
    }
   ],
   "source": [
    "next(a)  ## it same work as iterator."
   ]
  },
  {
   "cell_type": "code",
   "execution_count": 45,
   "id": "339b3ee3",
   "metadata": {},
   "outputs": [],
   "source": [
    "def my_generator():\n",
    "    yield 1\n",
    "    yield 2\n",
    "    yield 3"
   ]
  },
  {
   "cell_type": "code",
   "execution_count": 48,
   "id": "39250ae1",
   "metadata": {},
   "outputs": [
    {
     "data": {
      "text/plain": [
       "<generator object my_generator at 0x0000021724BDE2D0>"
      ]
     },
     "execution_count": 48,
     "metadata": {},
     "output_type": "execute_result"
    }
   ],
   "source": [
    "gen = my_generator()\n",
    "gen"
   ]
  },
  {
   "cell_type": "code",
   "execution_count": 49,
   "id": "a06abd76",
   "metadata": {},
   "outputs": [
    {
     "data": {
      "text/plain": [
       "1"
      ]
     },
     "execution_count": 49,
     "metadata": {},
     "output_type": "execute_result"
    }
   ],
   "source": [
    "next(gen)"
   ]
  },
  {
   "cell_type": "code",
   "execution_count": 53,
   "id": "8ce1d21f",
   "metadata": {},
   "outputs": [],
   "source": [
    "for val in gen:\n",
    "    print(val)"
   ]
  },
  {
   "cell_type": "markdown",
   "id": "6d2c23ae",
   "metadata": {},
   "source": [
    "## Reading large files"
   ]
  },
  {
   "cell_type": "code",
   "execution_count": 56,
   "id": "ee594d9b",
   "metadata": {},
   "outputs": [],
   "source": [
    "def reading_file(file_path):\n",
    "    with open(file_path, 'r') as file:\n",
    "        for line in file:\n",
    "            yield line"
   ]
  },
  {
   "cell_type": "code",
   "execution_count": 57,
   "id": "e4d33b7a",
   "metadata": {},
   "outputs": [
    {
     "ename": "SyntaxError",
     "evalue": "expected ':' (3487808512.py, line 3)",
     "output_type": "error",
     "traceback": [
      "\u001b[1;36m  Cell \u001b[1;32mIn[57], line 3\u001b[1;36m\u001b[0m\n\u001b[1;33m    for line in read_large_file(file_path)\u001b[0m\n\u001b[1;37m                                          ^\u001b[0m\n\u001b[1;31mSyntaxError\u001b[0m\u001b[1;31m:\u001b[0m expected ':'\n"
     ]
    }
   ],
   "source": [
    "file_path = 'large_file.txt'\n",
    "\n",
    "for line in read_large_file(file_path)"
   ]
  }
 ],
 "metadata": {
  "kernelspec": {
   "display_name": "Python 3",
   "language": "python",
   "name": "python3"
  },
  "language_info": {
   "codemirror_mode": {
    "name": "ipython",
    "version": 3
   },
   "file_extension": ".py",
   "mimetype": "text/x-python",
   "name": "python",
   "nbconvert_exporter": "python",
   "pygments_lexer": "ipython3",
   "version": "3.10.0"
  }
 },
 "nbformat": 4,
 "nbformat_minor": 5
}
