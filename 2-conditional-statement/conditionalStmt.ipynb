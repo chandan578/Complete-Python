{
 "cells": [
  {
   "cell_type": "markdown",
   "metadata": {},
   "source": [
    "## Conditional Statements"
   ]
  },
  {
   "cell_type": "code",
   "execution_count": 1,
   "metadata": {},
   "outputs": [
    {
     "name": "stdout",
     "output_type": "stream",
     "text": [
      "You are eligible for vote..\n"
     ]
    }
   ],
   "source": [
    "## if statement\n",
    "\n",
    "age = 18\n",
    "\n",
    "if age >= 18:\n",
    "    print(\"You are eligible for vote..\")"
   ]
  },
  {
   "cell_type": "code",
   "execution_count": 2,
   "metadata": {},
   "outputs": [
    {
     "name": "stdout",
     "output_type": "stream",
     "text": [
      "You are minior....\n"
     ]
    }
   ],
   "source": [
    "## if else statement\n",
    "\n",
    "age = 16\n",
    "\n",
    "if age >= 18:\n",
    "    print(\"You are eligible for vote..\")\n",
    "else :\n",
    "    print(\"You are minior....\")"
   ]
  },
  {
   "cell_type": "code",
   "execution_count": 3,
   "metadata": {},
   "outputs": [
    {
     "name": "stdout",
     "output_type": "stream",
     "text": [
      "You are an adult...\n"
     ]
    }
   ],
   "source": [
    "## elif --> allow to check multiple conditions\n",
    "\n",
    "age = 20\n",
    "\n",
    "if age < 13:\n",
    "    print(\"You are child....\")\n",
    "elif age < 18:\n",
    "    print(\"You are teenager...\")\n",
    "else : \n",
    "    print(\"You are an adult...\")"
   ]
  },
  {
   "cell_type": "code",
   "execution_count": 6,
   "metadata": {},
   "outputs": [
    {
     "name": "stdout",
     "output_type": "stream",
     "text": [
      "Number is negative or zero...\n"
     ]
    }
   ],
   "source": [
    "## Nested conditional statements...\n",
    "# Inside one if you can write another if, elif or else statement\n",
    "\n",
    "## Number even, odd and negative\n",
    "\n",
    "num = int(input(\"Enter the number : \"))\n",
    "\n",
    "if num > 0 :\n",
    "    if num%2 == 0 :\n",
    "        print(\"Number is even...\")\n",
    "    else :\n",
    "        print(\"Number is odd..\")\n",
    "else :\n",
    "    print(\"Number is negative or zero...\")"
   ]
  },
  {
   "cell_type": "code",
   "execution_count": 8,
   "metadata": {},
   "outputs": [
    {
     "name": "stdout",
     "output_type": "stream",
     "text": [
      "This is leap year...\n"
     ]
    }
   ],
   "source": [
    "## Determine the year is leap year or not...\n",
    "\n",
    "year = int(input(\"Enter year : \"))\n",
    "\n",
    "if year%4 == 0:\n",
    "    if year%100 == 0:\n",
    "        if year%400 == 0:\n",
    "            print(year, \"is a leap year...\")\n",
    "        else:\n",
    "            print(year, \"is not a leap year...\")\n",
    "    else:\n",
    "        print(\"This is leap year...\")\n",
    "else :\n",
    "    print(\"This is not leap year...\")\n"
   ]
  }
 ],
 "metadata": {
  "kernelspec": {
   "display_name": "Python 3",
   "language": "python",
   "name": "python3"
  },
  "language_info": {
   "codemirror_mode": {
    "name": "ipython",
    "version": 3
   },
   "file_extension": ".py",
   "mimetype": "text/x-python",
   "name": "python",
   "nbconvert_exporter": "python",
   "pygments_lexer": "ipython3",
   "version": "3.12.0"
  }
 },
 "nbformat": 4,
 "nbformat_minor": 2
}
