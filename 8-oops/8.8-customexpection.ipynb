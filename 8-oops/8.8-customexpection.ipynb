{
 "cells": [
  {
   "cell_type": "markdown",
   "id": "e9f9bce2",
   "metadata": {},
   "source": [
    "### Custom Excepection (Raise and Throw an Exception)"
   ]
  },
  {
   "cell_type": "code",
   "execution_count": 2,
   "id": "4bae5275",
   "metadata": {},
   "outputs": [],
   "source": [
    "## Expection Class\n",
    "class Error(Exception):\n",
    "    pass\n",
    "\n",
    "class dobException(Error):\n",
    "    pass"
   ]
  },
  {
   "cell_type": "code",
   "execution_count": 7,
   "id": "bc94fe05",
   "metadata": {},
   "outputs": [
    {
     "name": "stdout",
     "output_type": "stream",
     "text": [
      "Sorry, your age limit is cross that 30, you are not eligible for apply any form...\n"
     ]
    }
   ],
   "source": [
    "## take input and handle it using exception\n",
    "\n",
    "year = int(input(\"Enter your dob\"))\n",
    "age = 2025 - year\n",
    "\n",
    "try:\n",
    "    if age <= 30 and age >= 20 :\n",
    "        print(\"You are valid the apply for govt. job application...\")\n",
    "    else:\n",
    "        raise dobException\n",
    "except dobException:\n",
    "    print(\"Sorry, your age limit is cross that 30, you are not eligible for apply any form...\")"
   ]
  }
 ],
 "metadata": {
  "kernelspec": {
   "display_name": "Python 3",
   "language": "python",
   "name": "python3"
  },
  "language_info": {
   "codemirror_mode": {
    "name": "ipython",
    "version": 3
   },
   "file_extension": ".py",
   "mimetype": "text/x-python",
   "name": "python",
   "nbconvert_exporter": "python",
   "pygments_lexer": "ipython3",
   "version": "3.10.0"
  }
 },
 "nbformat": 4,
 "nbformat_minor": 5
}
