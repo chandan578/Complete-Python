{
 "cells": [
  {
   "cell_type": "markdown",
   "id": "bb15266d",
   "metadata": {},
   "source": [
    "## Abstraction"
   ]
  },
  {
   "cell_type": "markdown",
   "id": "f901e7f3",
   "metadata": {},
   "source": [
    "Abstraction is a fundamental concept in programming that involves hiding complex implementation details and showing only the necessary features of an object or process. It helps in reducing complexity and allows the programmer to focus on interactions at a higher level.\n"
   ]
  },
  {
   "cell_type": "code",
   "execution_count": 3,
   "id": "cab4449d",
   "metadata": {},
   "outputs": [
    {
     "name": "stdout",
     "output_type": "stream",
     "text": [
      "Car engine started...\n",
      "The vehical is used for driving.\n"
     ]
    }
   ],
   "source": [
    "from abc import ABC, abstractclassmethod\n",
    "\n",
    "## Abstract base class\n",
    "class Vechical(ABC):\n",
    "    def drive(self):\n",
    "        print(\"The vehical is used for driving.\")\n",
    "\n",
    "    @abstractclassmethod\n",
    "    def start_engine(start):\n",
    "        pass\n",
    "\n",
    "class Car(Vechical):\n",
    "    def start_engine(self):\n",
    "        print(\"Car engine started...\")\n",
    "\n",
    "def operate_vehicle(vehicle):\n",
    "    vehicle.start_engine()\n",
    "    vehicle.drive()\n",
    "\n",
    "car = Car()\n",
    "operate_vehicle(car)"
   ]
  }
 ],
 "metadata": {
  "kernelspec": {
   "display_name": "Python 3",
   "language": "python",
   "name": "python3"
  },
  "language_info": {
   "codemirror_mode": {
    "name": "ipython",
    "version": 3
   },
   "file_extension": ".py",
   "mimetype": "text/x-python",
   "name": "python",
   "nbconvert_exporter": "python",
   "pygments_lexer": "ipython3",
   "version": "3.10.0"
  }
 },
 "nbformat": 4,
 "nbformat_minor": 5
}
