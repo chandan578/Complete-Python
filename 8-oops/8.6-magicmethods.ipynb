{
 "cells": [
  {
   "cell_type": "markdown",
   "id": "9347285e",
   "metadata": {},
   "source": [
    "## Magic Methods"
   ]
  },
  {
   "cell_type": "markdown",
   "id": "d8fd23bd",
   "metadata": {},
   "source": [
    "Magic methods in Python (also called dunder methods) are special methods with double underscores before and after their names.\n",
    "They enable the customization of built-in behavior for objects, such as arithmetic operations, string representation, and object initialization.\n",
    "\n"
   ]
  },
  {
   "cell_type": "code",
   "execution_count": null,
   "id": "81ad65c6",
   "metadata": {},
   "outputs": [],
   "source": [
    "'''\n",
    "Examples:\n",
    "__init__(self, ...)      - Object initialization (constructor)\n",
    "__str__(self)            - String representation\n",
    "__add__(self, other)     - Addition operator (+)\n",
    "__len__(self)            - Length (len())\n",
    "__getitem__(self, key)   - Indexing (obj[key])\n",
    "'''"
   ]
  },
  {
   "cell_type": "code",
   "execution_count": 2,
   "id": "a76841f0",
   "metadata": {},
   "outputs": [
    {
     "data": {
      "text/plain": [
       "['__class__',\n",
       " '__delattr__',\n",
       " '__dict__',\n",
       " '__dir__',\n",
       " '__doc__',\n",
       " '__eq__',\n",
       " '__format__',\n",
       " '__ge__',\n",
       " '__getattribute__',\n",
       " '__gt__',\n",
       " '__hash__',\n",
       " '__init__',\n",
       " '__init_subclass__',\n",
       " '__le__',\n",
       " '__lt__',\n",
       " '__module__',\n",
       " '__ne__',\n",
       " '__new__',\n",
       " '__reduce__',\n",
       " '__reduce_ex__',\n",
       " '__repr__',\n",
       " '__setattr__',\n",
       " '__sizeof__',\n",
       " '__str__',\n",
       " '__subclasshook__',\n",
       " '__weakref__']"
      ]
     },
     "execution_count": 2,
     "metadata": {},
     "output_type": "execute_result"
    }
   ],
   "source": [
    "class Person:\n",
    "    pass\n",
    "\n",
    "person = Person()\n",
    "dir(person)  ## it generate all magic methods.."
   ]
  },
  {
   "cell_type": "code",
   "execution_count": 5,
   "id": "90e56c34",
   "metadata": {},
   "outputs": [
    {
     "name": "stdout",
     "output_type": "stream",
     "text": [
      "<__main__.Person object at 0x00000230D5A32950>\n"
     ]
    },
    {
     "data": {
      "text/plain": [
       "'<__main__.Person object at 0x00000230D5A32950>'"
      ]
     },
     "execution_count": 5,
     "metadata": {},
     "output_type": "execute_result"
    }
   ],
   "source": [
    "# both are same \n",
    "print(person)\n",
    "person.__str__()"
   ]
  },
  {
   "cell_type": "code",
   "execution_count": 7,
   "id": "32fb5b4b",
   "metadata": {},
   "outputs": [
    {
     "name": "stdout",
     "output_type": "stream",
     "text": [
      "<__main__.Person object at 0x00000230D5A50F40>\n"
     ]
    }
   ],
   "source": [
    "## Basic method\n",
    "\n",
    "class Person:\n",
    "    def __init__(self, name, age):\n",
    "        self.name = name\n",
    "        self.age = age\n",
    "    \n",
    "person = Person('chandan', 24)\n",
    "print(person)"
   ]
  },
  {
   "cell_type": "code",
   "execution_count": null,
   "id": "5d4e54b3",
   "metadata": {},
   "outputs": [
    {
     "name": "stdout",
     "output_type": "stream",
     "text": [
      "chandan, 24 years old...\n",
      "(name=chandan), (age = 24)\n"
     ]
    }
   ],
   "source": [
    "## Basic method\n",
    "\n",
    "class Person:\n",
    "    def __init__(self, name, age):\n",
    "        self.name = name\n",
    "        self.age = age\n",
    "    \n",
    "    def __str__(self):\n",
    "        return f\"{self.name}, {self.age} years old...\"\n",
    "    \n",
    "    def __repr__(self):\n",
    "        return f\"(name = {self.name}), (age = {self.age})\"\n",
    "    \n",
    "person = Person('chandan', 24)\n",
    "print(person)\n",
    "print(repr(person))"
   ]
  }
 ],
 "metadata": {
  "kernelspec": {
   "display_name": "Python 3",
   "language": "python",
   "name": "python3"
  },
  "language_info": {
   "codemirror_mode": {
    "name": "ipython",
    "version": 3
   },
   "file_extension": ".py",
   "mimetype": "text/x-python",
   "name": "python",
   "nbconvert_exporter": "python",
   "pygments_lexer": "ipython3",
   "version": "3.10.0"
  }
 },
 "nbformat": 4,
 "nbformat_minor": 5
}
