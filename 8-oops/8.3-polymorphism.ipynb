{
 "cells": [
  {
   "cell_type": "markdown",
   "metadata": {},
   "source": [
    "## Polymorphism\n",
    "\n",
    "Means Multple Form"
   ]
  },
  {
   "cell_type": "markdown",
   "metadata": {},
   "source": [
    "## Method Overriding"
   ]
  },
  {
   "cell_type": "code",
   "execution_count": 2,
   "metadata": {},
   "outputs": [
    {
     "name": "stdout",
     "output_type": "stream",
     "text": [
      "Woof woof!!\n",
      "Meow, meow!!\n",
      "Woof woof!!\n"
     ]
    }
   ],
   "source": [
    "## Base class\n",
    "class Animal:\n",
    "    def speak(self):\n",
    "        return \"Sound of the animal...\"\n",
    "\n",
    "## Derived class 1\n",
    "class Dog(Animal):\n",
    "    def speak(self):\n",
    "        return \"Woof woof!!\"\n",
    "\n",
    "## Derived class 2\n",
    "class Cat(Animal):\n",
    "    def speak(self):\n",
    "        return \"Meow, meow!!\"\n",
    "    \n",
    "## function that demonstrates polymorphism\n",
    "def speak(animal):\n",
    "    print(animal.speak())\n",
    "\n",
    "## create object of that class\n",
    "dog = Dog()\n",
    "cat = Cat()\n",
    "print(dog.speak())\n",
    "print(cat.speak())\n",
    "speak(dog)"
   ]
  },
  {
   "cell_type": "code",
   "execution_count": null,
   "metadata": {},
   "outputs": [
    {
     "name": "stdout",
     "output_type": "stream",
     "text": [
      "24\n",
      "25\n",
      "Area of shape : 25\n"
     ]
    }
   ],
   "source": [
    "## Polymorphism with functions and methods\n",
    "\n",
    "## Base class\n",
    "class Shape:\n",
    "    def area(self):\n",
    "        return \"Area of the shape\"\n",
    "\n",
    "## Derived class\n",
    "class Rectangle(Shape):\n",
    "    def __init__(self, width, length):\n",
    "        self.width = width\n",
    "        self.length = length\n",
    "    \n",
    "    def area(self):\n",
    "        return self.width*self.length\n",
    "\n",
    "## Derived class 2\n",
    "class Circle(Shape):\n",
    "    def __init__(self, radius):\n",
    "        self.radius = radius\n",
    "\n",
    "    def area(self):\n",
    "        return self.radius*self.radius\n",
    "    \n",
    "## function that demonstrate polymorphism\n",
    "def print_area(shape):\n",
    "    print(f'Area of shape : {shape.area()}')\n",
    "\n",
    "## object of that class\n",
    "circle = Circle(5)\n",
    "rect = Rectangle(4,6)\n",
    "\n",
    "print(rect.area())\n",
    "print(circle.area())\n",
    "print_area(circle)"
   ]
  },
  {
   "cell_type": "markdown",
   "metadata": {},
   "source": [
    "#### Polymorphism with Abstract Base Classes"
   ]
  },
  {
   "cell_type": "code",
   "execution_count": 8,
   "metadata": {},
   "outputs": [
    {
     "name": "stdout",
     "output_type": "stream",
     "text": [
      "Car engine start...\n",
      "Motercycle engine start...\n",
      "Car engine start...\n"
     ]
    }
   ],
   "source": [
    "## Base class\n",
    "from abc import ABC, abstractmethod\n",
    "\n",
    "class Vechicle:\n",
    "    @abstractmethod\n",
    "    def start_engine(self):\n",
    "        pass\n",
    "\n",
    "## Derived class 1\n",
    "class Car(Vechicle):\n",
    "    def  start_engine(self):\n",
    "        return \"Car engine start...\"\n",
    "    \n",
    "## Derived class 2\n",
    "class MoterCycle(Vechicle):\n",
    "    def start_engine(self):\n",
    "        return \"Motercycle engine start...\"\n",
    "\n",
    "## Function that demonstrate polymorphism\n",
    "def start_vechicle(vechicle):\n",
    "    print(vechicle.start_engine())\n",
    "\n",
    "## create object\n",
    "car = Car()\n",
    "moterCycle = MoterCycle()\n",
    "print(car.start_engine())\n",
    "print(moterCycle.start_engine())\n",
    "start_vechicle(car)"
   ]
  }
 ],
 "metadata": {
  "kernelspec": {
   "display_name": "Python 3",
   "language": "python",
   "name": "python3"
  },
  "language_info": {
   "codemirror_mode": {
    "name": "ipython",
    "version": 3
   },
   "file_extension": ".py",
   "mimetype": "text/x-python",
   "name": "python",
   "nbconvert_exporter": "python",
   "pygments_lexer": "ipython3",
   "version": "3.12.0"
  }
 },
 "nbformat": 4,
 "nbformat_minor": 2
}
