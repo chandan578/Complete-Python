{
 "cells": [
  {
   "cell_type": "markdown",
   "metadata": {},
   "source": [
    "## Polymorphism In Python\n",
    "\n",
    "Means Multple Form"
   ]
  },
  {
   "cell_type": "code",
   "execution_count": null,
   "metadata": {
    "vscode": {
     "languageId": "markdown"
    }
   },
   "outputs": [],
   "source": [
    "Polymorphism in Python refers to the ability of different objects to respond to the same method or function call in their own way.\n",
    "It allows methods to have different implementations depending on the object calling them.\n",
    "For example, different classes can implement the same method name, but with behavior specific to each class."
   ]
  },
  {
   "cell_type": "markdown",
   "metadata": {},
   "source": [
    "## Method Overriding"
   ]
  },
  {
   "cell_type": "code",
   "execution_count": 2,
   "metadata": {},
   "outputs": [
    {
     "name": "stdout",
     "output_type": "stream",
     "text": [
      "Woof woof!!\n",
      "Meow, meow!!\n",
      "Woof woof!!\n",
      "Sound of the animal...\n",
      "Meow, meow!!\n"
     ]
    }
   ],
   "source": [
    "## Base class\n",
    "class Animal:\n",
    "    def speak(self):\n",
    "        return \"Sound of the animal...\"\n",
    "\n",
    "## Derived class 1\n",
    "class Dog(Animal):\n",
    "    def speak(self):\n",
    "        return \"Woof woof!!\"\n",
    "\n",
    "## Derived class 2\n",
    "class Cat(Animal):\n",
    "    def speak(self):\n",
    "        return \"Meow, meow!!\"\n",
    "    \n",
    "## function that demonstrates polymorphism\n",
    "def speak(animal):\n",
    "    print(animal.speak())\n",
    "\n",
    "## create object of that class\n",
    "dog = Dog()\n",
    "cat = Cat()\n",
    "animal = Animal()\n",
    "print(dog.speak())\n",
    "print(cat.speak())\n",
    "speak(dog)\n",
    "speak(animal)\n",
    "speak(cat)"
   ]
  },
  {
   "cell_type": "code",
   "execution_count": 3,
   "metadata": {},
   "outputs": [
    {
     "name": "stdout",
     "output_type": "stream",
     "text": [
      "Area of Reactangle :  24\n",
      "Area of  Circle:  78.5\n",
      "Area of shape : 78.5\n"
     ]
    }
   ],
   "source": [
    "## Polymorphism with functions and methods\n",
    "\n",
    "## Base class\n",
    "class Shape:\n",
    "    def area(self):\n",
    "        return \"Area of the shape\"\n",
    "\n",
    "## Derived class\n",
    "class Rectangle(Shape):\n",
    "    def __init__(self, width, length):\n",
    "        self.width = width\n",
    "        self.length = length\n",
    "    \n",
    "    def area(self):\n",
    "        return self.width*self.length\n",
    "\n",
    "## Derived class 2\n",
    "class Circle(Shape):\n",
    "    def __init__(self, radius):\n",
    "        self.radius = radius\n",
    "\n",
    "    def area(self):\n",
    "        return 3.14*self.radius*self.radius\n",
    "    \n",
    "## function that demonstrate polymorphism\n",
    "def print_area(shape):\n",
    "    print(f'Area of shape : {shape.area()}')\n",
    "\n",
    "## object of that class\n",
    "circle = Circle(5)\n",
    "rect = Rectangle(4,6)\n",
    "\n",
    "print(f'Area of Reactangle : ',rect.area())\n",
    "print(f'Area of  Circle: ',circle.area())\n",
    "print_area(circle)"
   ]
  },
  {
   "cell_type": "markdown",
   "metadata": {},
   "source": [
    "#### Polymorphism with Abstract Base Classes"
   ]
  },
  {
   "cell_type": "code",
   "execution_count": 4,
   "metadata": {},
   "outputs": [
    {
     "name": "stdout",
     "output_type": "stream",
     "text": [
      "Car engine start...\n",
      "Motercycle engine start...\n",
      "Car engine start...\n"
     ]
    }
   ],
   "source": [
    "## Base class\n",
    "## Abstractor method is kind of decorator...\n",
    "from abc import ABC, abstractmethod\n",
    "\n",
    "class Vechicle:\n",
    "    @abstractmethod\n",
    "    def start_engine(self):\n",
    "        pass\n",
    "\n",
    "## Derived class 1\n",
    "class Car(Vechicle):\n",
    "    def  start_engine(self):\n",
    "        return \"Car engine start...\"\n",
    "    \n",
    "## Derived class 2\n",
    "class MoterCycle(Vechicle):\n",
    "    def start_engine(self):\n",
    "        return \"Motercycle engine start...\"\n",
    "\n",
    "## Function that demonstrate polymorphism\n",
    "def start_vechicle(vechicle):\n",
    "    print(vechicle.start_engine())\n",
    "\n",
    "## create object\n",
    "car = Car()\n",
    "moterCycle = MoterCycle()\n",
    "print(car.start_engine())\n",
    "print(moterCycle.start_engine())\n",
    "start_vechicle(car)"
   ]
  }
 ],
 "metadata": {
  "kernelspec": {
   "display_name": "Python 3",
   "language": "python",
   "name": "python3"
  },
  "language_info": {
   "codemirror_mode": {
    "name": "ipython",
    "version": 3
   },
   "file_extension": ".py",
   "mimetype": "text/x-python",
   "name": "python",
   "nbconvert_exporter": "python",
   "pygments_lexer": "ipython3",
   "version": "3.10.0"
  }
 },
 "nbformat": 4,
 "nbformat_minor": 2
}
