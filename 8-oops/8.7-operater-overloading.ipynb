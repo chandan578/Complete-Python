{
 "cells": [
  {
   "cell_type": "markdown",
   "id": "30d628a1",
   "metadata": {},
   "source": [
    "## Operator Overloading"
   ]
  },
  {
   "cell_type": "markdown",
   "id": "2247c425",
   "metadata": {},
   "source": [
    "Operator overloading in Python allows user-defined classes to specify the behavior of operators such as +, -, *, etc. By defining special methods like `__add__`, you can control how objects of your class interact with these operators. For example, you can make the `+` operator add the attributes of two objects together, enabling intuitive and readable code when working with custom types.\n"
   ]
  },
  {
   "cell_type": "code",
   "execution_count": 1,
   "id": "65c0c89c",
   "metadata": {},
   "outputs": [],
   "source": [
    "# Common operator overloading functions in Python\n",
    "# These are special methods you can define in your classes:\n",
    "\n",
    "operator_methods = {\n",
    "    '+': '__add__',\n",
    "    '-': '__sub__',\n",
    "    '*': '__mul__',\n",
    "    '/': '__truediv__',\n",
    "    '//': '__floordiv__',\n",
    "    '%': '__mod__',\n",
    "    '**': '__pow__',\n",
    "    '==': '__eq__',\n",
    "    '!=': '__ne__',\n",
    "    '<': '__lt__',\n",
    "    '<=': '__le__',\n",
    "    '>': '__gt__',\n",
    "    '>=': '__ge__',\n",
    "    '[]': '__getitem__',\n",
    "    '()': '__call__',\n",
    "    'len()': '__len__',\n",
    "    'str()': '__str__',\n",
    "    'repr()': '__repr__'\n",
    "}\n"
   ]
  },
  {
   "cell_type": "code",
   "execution_count": 8,
   "id": "cab77023",
   "metadata": {},
   "outputs": [
    {
     "name": "stdout",
     "output_type": "stream",
     "text": [
      "Vector(6, 8)\n",
      "Vector(-2, -2)\n",
      "Vector(10, 15)\n",
      "Vector(16, 243)\n"
     ]
    }
   ],
   "source": [
    "## Basic mathematics operations\n",
    "\n",
    "class Vector:\n",
    "    def __init__(self, x, y):\n",
    "        self.x = x\n",
    "        self.y = y\n",
    "    \n",
    "    def __add__(self, other):\n",
    "        return Vector(self.x + other.x, self.y + other.y)\n",
    "    \n",
    "    def __sub__(self, other):\n",
    "        return Vector(self.x - other.x, self.y - other.y)\n",
    "    \n",
    "    def __mul__(self, other):\n",
    "        return Vector(self.x * other.x, self.y * other.y)\n",
    "    \n",
    "    def __mul__(self, other):\n",
    "        return Vector(self.x * other, self.y * other)\n",
    "    \n",
    "    def __eq__(self, other):\n",
    "        return Vector(self.x == other.x, self.y == other.y)\n",
    "    \n",
    "    def __pow__(self, other):\n",
    "        return Vector(self.x ** other.x, self.y ** other.y)\n",
    "    \n",
    "    def __repr__(self):\n",
    "        return f\"Vector({self.x}, {self.y})\"\n",
    "\n",
    "## creating objects of the vector class\n",
    "v1 = Vector(2, 3)\n",
    "v2 = Vector(4, 5)\n",
    "\n",
    "print(v1 + v2)\n",
    "print(v1 - v2)\n",
    "# print(v1 * v2)\n",
    "print(v1 * 5)\n",
    "print(v1 ** v2)"
   ]
  },
  {
   "cell_type": "code",
   "execution_count": null,
   "id": "4168a146",
   "metadata": {},
   "outputs": [],
   "source": []
  },
  {
   "cell_type": "markdown",
   "id": "4f4dbfae",
   "metadata": {},
   "source": []
  }
 ],
 "metadata": {
  "kernelspec": {
   "display_name": "Python 3",
   "language": "python",
   "name": "python3"
  },
  "language_info": {
   "codemirror_mode": {
    "name": "ipython",
    "version": 3
   },
   "file_extension": ".py",
   "mimetype": "text/x-python",
   "name": "python",
   "nbconvert_exporter": "python",
   "pygments_lexer": "ipython3",
   "version": "3.10.0"
  }
 },
 "nbformat": 4,
 "nbformat_minor": 5
}
