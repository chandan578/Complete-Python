{
 "cells": [
  {
   "cell_type": "markdown",
   "metadata": {},
   "source": [
    "## Inheritance In Python"
   ]
  },
  {
   "cell_type": "code",
   "execution_count": null,
   "metadata": {},
   "outputs": [],
   "source": [
    "## create a Car class\n",
    "## parent class\n",
    "\n",
    "class Car:\n",
    "    def __init__(self, window, doors, engineType):\n",
    "        self.window = window\n",
    "        self.doors = doors\n",
    "        self.engineType = engineType\n",
    "    \n",
    "    def drive(self):\n",
    "        print(f'The person is driving {self.engineType} car..')"
   ]
  },
  {
   "cell_type": "code",
   "execution_count": 4,
   "metadata": {},
   "outputs": [
    {
     "name": "stdout",
     "output_type": "stream",
     "text": [
      "The person is driving petrol car..\n"
     ]
    }
   ],
   "source": [
    "car1 = Car(4,5, 'petrol')\n",
    "car1.drive()"
   ]
  },
  {
   "cell_type": "code",
   "execution_count": 8,
   "metadata": {},
   "outputs": [],
   "source": [
    "## Inherit parent Car class  (single Inheritance)\n",
    "## child class\n",
    "\n",
    "class Tesla(Car):\n",
    "    ## constructor\n",
    "    def __init__(self, window, doors, engineType, is_selfdriving):\n",
    "        super().__init__(window, doors, engineType)\n",
    "        self.is_selfdriving = is_selfdriving\n",
    "    \n",
    "    def selfdriving(self):\n",
    "        print(f'Tesla supports self driving car : {self.is_selfdriving}')"
   ]
  },
  {
   "cell_type": "code",
   "execution_count": 9,
   "metadata": {},
   "outputs": [
    {
     "name": "stdout",
     "output_type": "stream",
     "text": [
      "Tesla supports self driving car : True\n"
     ]
    }
   ],
   "source": [
    "## call selfdriving method\n",
    "tesla1 = Tesla(4,5, 'electric', True)\n",
    "tesla1.selfdriving()"
   ]
  },
  {
   "cell_type": "code",
   "execution_count": 13,
   "metadata": {},
   "outputs": [
    {
     "name": "stdout",
     "output_type": "stream",
     "text": [
      "Tommy say woof...\n",
      "chandan\n"
     ]
    }
   ],
   "source": [
    "## Multiple Inheritance\n",
    "## When a class inherits more than one base class\n",
    "\n",
    "## Base class 1\n",
    "class Animal:\n",
    "    def __init__(self, name):\n",
    "        self.name = name\n",
    "\n",
    "    def speak(self):\n",
    "        print(\"Child class complete this method....\")\n",
    "\n",
    "## Base class 2\n",
    "class Pet:\n",
    "    def __init__(self, owner):\n",
    "        self.owner = owner\n",
    "    \n",
    "## Derived class\n",
    "class Dog(Animal, Pet):\n",
    "    def __init__(self, name, owner):\n",
    "        Animal.__init__(self, name)\n",
    "        Pet.__init__(self, owner)\n",
    "    \n",
    "    def speak(self):\n",
    "        return f'{self.name} say woof...'\n",
    "\n",
    "## create an object\n",
    "dog1 = Dog('Tommy', 'chandan')\n",
    "print(dog1.speak())\n",
    "print(dog1.owner)"
   ]
  },
  {
   "cell_type": "code",
   "execution_count": null,
   "metadata": {},
   "outputs": [],
   "source": []
  }
 ],
 "metadata": {
  "kernelspec": {
   "display_name": "Python 3",
   "language": "python",
   "name": "python3"
  },
  "language_info": {
   "codemirror_mode": {
    "name": "ipython",
    "version": 3
   },
   "file_extension": ".py",
   "mimetype": "text/x-python",
   "name": "python",
   "nbconvert_exporter": "python",
   "pygments_lexer": "ipython3",
   "version": "3.12.0"
  }
 },
 "nbformat": 4,
 "nbformat_minor": 2
}
