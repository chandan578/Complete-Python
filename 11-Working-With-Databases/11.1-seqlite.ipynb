{
 "cells": [
  {
   "cell_type": "markdown",
   "id": "df546dcc",
   "metadata": {},
   "source": [
    "## SQL And SQLite"
   ]
  },
  {
   "cell_type": "markdown",
   "id": "7d6d4523",
   "metadata": {},
   "source": [
    "SQL (Structured Query Language) is a standard language for managing and manipulating databases. SQLite is a lightweight, serverless SQL database engine that is widely used for local storage in applications. SQLite is particularly useful for applications that require a simple, file-based database without the overhead of a full database server."
   ]
  },
  {
   "cell_type": "code",
   "execution_count": 2,
   "id": "6b12fd6f",
   "metadata": {},
   "outputs": [],
   "source": [
    "import sqlite3"
   ]
  },
  {
   "cell_type": "code",
   "execution_count": 4,
   "id": "e4d4ea6f",
   "metadata": {},
   "outputs": [
    {
     "data": {
      "text/plain": [
       "<sqlite3.Connection at 0x1df9b757540>"
      ]
     },
     "execution_count": 4,
     "metadata": {},
     "output_type": "execute_result"
    }
   ],
   "source": [
    "## connect to an SQLite database\n",
    "connection = sqlite3.connect('example.db')\n",
    "connection"
   ]
  },
  {
   "cell_type": "code",
   "execution_count": 7,
   "id": "1de2c5b6",
   "metadata": {},
   "outputs": [],
   "source": [
    "cursor = connection.cursor()"
   ]
  },
  {
   "cell_type": "code",
   "execution_count": 8,
   "id": "b341b139",
   "metadata": {},
   "outputs": [],
   "source": [
    "## Create a table\n",
    "cursor.execute('''\n",
    "    Create Table If Not Exists employees(\n",
    "        id Integer Primary Key,\n",
    "        name text Not Null,\n",
    "        age Integer,\n",
    "        department Text\n",
    "    )\n",
    "''')\n",
    "\n",
    "## commit the changes\n",
    "connection.commit()"
   ]
  },
  {
   "cell_type": "code",
   "execution_count": null,
   "id": "9bf8e4fd",
   "metadata": {},
   "outputs": [
    {
     "data": {
      "text/plain": [
       "<sqlite3.Cursor at 0x1df9cd78fc0>"
      ]
     },
     "execution_count": 9,
     "metadata": {},
     "output_type": "execute_result"
    }
   ],
   "source": [
    "cursor.execute('''\n",
    "    Select * from employees\n",
    "''')"
   ]
  },
  {
   "cell_type": "code",
   "execution_count": 10,
   "id": "119ec1a5",
   "metadata": {},
   "outputs": [],
   "source": [
    "## Insert the data in squlite table\n",
    "cursor.execute('''\n",
    "Insert Into employees(name, age, department)\n",
    "        values('Chandan', 24, 'SDE')\n",
    "''')\n",
    "cursor.execute('''\n",
    "Insert Into employees(name, age, department)\n",
    "        values('Nikhil', 24, 'SDE')\n",
    "''')\n",
    "cursor.execute('''\n",
    "Insert Into employees(name, age, department)\n",
    "        values('Punnet', 24, 'SDE')\n",
    "''')\n",
    "cursor.execute('''\n",
    "Insert Into employees(name, age, department)\n",
    "        values('Vivek', 24, 'SDE')\n",
    "''')\n",
    "\n",
    "connection.commit()"
   ]
  },
  {
   "cell_type": "code",
   "execution_count": 12,
   "id": "7736a1e3",
   "metadata": {},
   "outputs": [
    {
     "name": "stdout",
     "output_type": "stream",
     "text": [
      "(1, 'Chandan', 24, 'SDE')\n",
      "(2, 'Nikhil', 24, 'SDE')\n",
      "(3, 'Punnet', 24, 'SDE')\n",
      "(4, 'Vivek', 24, 'SDE')\n"
     ]
    }
   ],
   "source": [
    "## query form table\n",
    "cursor.execute('Select * from employees')\n",
    "rows = cursor.fetchall()\n",
    "\n",
    "## print\n",
    "for row in rows:\n",
    "    print(row)\n"
   ]
  },
  {
   "cell_type": "code",
   "execution_count": 13,
   "id": "2e40c759",
   "metadata": {},
   "outputs": [],
   "source": [
    "## Update data \n",
    "cursor.execute('''\n",
    "Update employees \n",
    "Set age=30\n",
    "where name='Punnet'\n",
    "''')\n",
    "\n",
    "connection.commit()"
   ]
  },
  {
   "cell_type": "code",
   "execution_count": 14,
   "id": "ffcdf204",
   "metadata": {},
   "outputs": [
    {
     "name": "stdout",
     "output_type": "stream",
     "text": [
      "(1, 'Chandan', 24, 'SDE')\n",
      "(2, 'Nikhil', 24, 'SDE')\n",
      "(3, 'Punnet', 30, 'SDE')\n",
      "(4, 'Vivek', 24, 'SDE')\n"
     ]
    }
   ],
   "source": [
    "## query form table\n",
    "cursor.execute('Select * from employees')\n",
    "rows = cursor.fetchall()\n",
    "\n",
    "## print\n",
    "for row in rows:\n",
    "    print(row)\n"
   ]
  },
  {
   "cell_type": "code",
   "execution_count": 15,
   "id": "7b41c711",
   "metadata": {},
   "outputs": [],
   "source": [
    "## Delete the data from the table\n",
    "cursor.execute('''\n",
    "Delete from employees\n",
    "where name='Vivek'\n",
    "''')\n",
    "\n",
    "connection.commit()"
   ]
  },
  {
   "cell_type": "code",
   "execution_count": 16,
   "id": "cbf2d20c",
   "metadata": {},
   "outputs": [
    {
     "name": "stdout",
     "output_type": "stream",
     "text": [
      "(1, 'Chandan', 24, 'SDE')\n",
      "(2, 'Nikhil', 24, 'SDE')\n",
      "(3, 'Punnet', 30, 'SDE')\n"
     ]
    }
   ],
   "source": [
    "## query form table\n",
    "cursor.execute('Select * from employees')\n",
    "rows = cursor.fetchall()\n",
    "\n",
    "## print\n",
    "for row in rows:\n",
    "    print(row)\n"
   ]
  },
  {
   "cell_type": "code",
   "execution_count": 17,
   "id": "b32eb153",
   "metadata": {},
   "outputs": [],
   "source": [
    "## Working Wwith Sales Data\n",
    "# Connect to an SQLite database\n",
    "connection = sqlite3.connect('sales_data.db')\n",
    "cursor = connection.cursor()\n",
    "\n",
    "# Create a table for sales data\n",
    "cursor.execute('''\n",
    "CREATE TABLE IF NOT EXISTS sales (\n",
    "    id INTEGER PRIMARY KEY,\n",
    "    date TEXT NOT NULL,\n",
    "    product TEXT NOT NULL,\n",
    "    sales INTEGER,\n",
    "    region TEXT\n",
    ")\n",
    "''')\n",
    "\n",
    "# Insert data into the sales table\n",
    "sales_data = [\n",
    "    ('2023-01-01', 'Product1', 100, 'North'),\n",
    "    ('2023-01-02', 'Product2', 200, 'South'),\n",
    "    ('2023-01-03', 'Product1', 150, 'East'),\n",
    "    ('2023-01-04', 'Product3', 250, 'West'),\n",
    "    ('2023-01-05', 'Product2', 300, 'North')\n",
    "]\n",
    "\n",
    "cursor.executemany('''\n",
    "Insert into sales(date,product,sales,region)\n",
    "                   values(?,?,?,?)\n",
    "''',sales_data)\n",
    "\n",
    "connection.commit()"
   ]
  },
  {
   "cell_type": "code",
   "execution_count": 18,
   "id": "31cafac0",
   "metadata": {},
   "outputs": [
    {
     "name": "stdout",
     "output_type": "stream",
     "text": [
      "(1, '2023-01-01', 'Product1', 100, 'North')\n",
      "(2, '2023-01-02', 'Product2', 200, 'South')\n",
      "(3, '2023-01-03', 'Product1', 150, 'East')\n",
      "(4, '2023-01-04', 'Product3', 250, 'West')\n",
      "(5, '2023-01-05', 'Product2', 300, 'North')\n"
     ]
    }
   ],
   "source": [
    "## query from table\n",
    "cursor.execute('select * from sales')\n",
    "\n",
    "rows = cursor.fetchall()\n",
    "\n",
    "## print data\n",
    "for row in rows:\n",
    "    print(row)"
   ]
  },
  {
   "cell_type": "code",
   "execution_count": 19,
   "id": "415dbe1d",
   "metadata": {},
   "outputs": [],
   "source": [
    "## close the connection\n",
    "connection.close()"
   ]
  },
  {
   "cell_type": "code",
   "execution_count": 21,
   "id": "0e183e50",
   "metadata": {},
   "outputs": [
    {
     "ename": "ProgrammingError",
     "evalue": "Cannot operate on a closed database.",
     "output_type": "error",
     "traceback": [
      "\u001b[1;31m---------------------------------------------------------------------------\u001b[0m",
      "\u001b[1;31mProgrammingError\u001b[0m                          Traceback (most recent call last)",
      "Cell \u001b[1;32mIn[21], line 2\u001b[0m\n\u001b[0;32m      1\u001b[0m \u001b[38;5;66;03m## Nothing executed because connection is closed..\u001b[39;00m\n\u001b[1;32m----> 2\u001b[0m \u001b[43mcursor\u001b[49m\u001b[38;5;241;43m.\u001b[39;49m\u001b[43mexecute\u001b[49m\u001b[43m(\u001b[49m\u001b[38;5;124;43m'\u001b[39;49m\u001b[38;5;124;43mselect * from sales\u001b[39;49m\u001b[38;5;124;43m'\u001b[39;49m\u001b[43m)\u001b[49m\n\u001b[0;32m      4\u001b[0m rows \u001b[38;5;241m=\u001b[39m cursor\u001b[38;5;241m.\u001b[39mfetchall()\n\u001b[0;32m      6\u001b[0m \u001b[38;5;66;03m## print data\u001b[39;00m\n",
      "\u001b[1;31mProgrammingError\u001b[0m: Cannot operate on a closed database."
     ]
    }
   ],
   "source": [
    "## Nothing executed because connection is closed..\n",
    "cursor.execute('select * from sales')\n",
    "\n",
    "rows = cursor.fetchall()\n",
    "\n",
    "## print data\n",
    "for row in rows:\n",
    "    print(row)"
   ]
  }
 ],
 "metadata": {
  "kernelspec": {
   "display_name": "Python 3",
   "language": "python",
   "name": "python3"
  },
  "language_info": {
   "codemirror_mode": {
    "name": "ipython",
    "version": 3
   },
   "file_extension": ".py",
   "mimetype": "text/x-python",
   "name": "python",
   "nbconvert_exporter": "python",
   "pygments_lexer": "ipython3",
   "version": "3.10.0"
  }
 },
 "nbformat": 4,
 "nbformat_minor": 5
}
