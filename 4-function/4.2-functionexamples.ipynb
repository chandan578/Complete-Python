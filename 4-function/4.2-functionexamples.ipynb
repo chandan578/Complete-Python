{
 "cells": [
  {
   "cell_type": "markdown",
   "metadata": {},
   "source": [
    "## Function Examples\n"
   ]
  },
  {
   "cell_type": "markdown",
   "metadata": {},
   "source": [
    "## Example 1. Temperature Conversion"
   ]
  },
  {
   "cell_type": "code",
   "execution_count": 3,
   "metadata": {},
   "outputs": [
    {
     "name": "stdout",
     "output_type": "stream",
     "text": [
      "25.0\n",
      "91.4\n"
     ]
    }
   ],
   "source": [
    "def temperature(temp, units):\n",
    "    \"\"\"This function convert to the temperature celcius to frhrenheit\"\"\"\n",
    "    if units==\"F\":\n",
    "        return (temp-32)*5/9   ##  frhrenheit to celcius\n",
    "    elif units==\"C\":\n",
    "        return temp*9/5 + 32  ## celcius to frhrenheit\n",
    "    else : None\n",
    "\n",
    "print(temperature(77, \"F\"))\n",
    "print(temperature(33, \"C\"))"
   ]
  },
  {
   "cell_type": "markdown",
   "metadata": {},
   "source": [
    "## Example 2. Password Strength Checker"
   ]
  },
  {
   "cell_type": "code",
   "execution_count": 6,
   "metadata": {},
   "outputs": [
    {
     "name": "stdout",
     "output_type": "stream",
     "text": [
      "False\n",
      "False\n",
      "True\n"
     ]
    }
   ],
   "source": [
    "def is_strong_Password(password):\n",
    "    if len(password) < 8:\n",
    "        return False\n",
    "    if not any(char.isdigit() for char in password):\n",
    "        return False\n",
    "    if not any(char.islower() for char in password):\n",
    "        return False\n",
    "    if not any(char.isupper() for char in password):\n",
    "        return False\n",
    "    if not any(char in \"@!#$%^&*()\" for char in password):\n",
    "        return False\n",
    "    return True\n",
    "\n",
    "print(is_strong_Password(\"KumarHello\"))\n",
    "print(is_strong_Password(\"Kumar@@Hello\"))\n",
    "print(is_strong_Password(\"Kumar34@Hello\"))"
   ]
  },
  {
   "cell_type": "markdown",
   "metadata": {},
   "source": [
    "## Example 3. Calculate the Total Cost of Items in a shopping cart"
   ]
  },
  {
   "cell_type": "code",
   "execution_count": 8,
   "metadata": {},
   "outputs": [
    {
     "name": "stdout",
     "output_type": "stream",
     "text": [
      "625\n",
      "[{'name': 'Apple', 'price': 7, 'quantity': 5}, {'name': 'Banana', 'price': 5, 'quantity': 12}, {'name': 'Grapes', 'price': 20, 'quantity': 10}, {'name': 'Orange', 'price': 15, 'quantity': 22}]\n"
     ]
    }
   ],
   "source": [
    "def calculate_total(cart):\n",
    "    totalCost = 0\n",
    "    for value in cart:\n",
    "        totalCost += value[\"price\"]*value[\"quantity\"]\n",
    "    return totalCost\n",
    "\n",
    "## Cart items\n",
    "cart = [\n",
    "    {\"name\":\"Apple\", \"price\": 7, \"quantity\": 5},\n",
    "    {\"name\":\"Banana\", \"price\": 5, \"quantity\": 12},\n",
    "    {\"name\":\"Grapes\", \"price\": 20, \"quantity\": 10},\n",
    "    {\"name\":\"Orange\", \"price\": 15, \"quantity\": 22}\n",
    "]\n",
    "\n",
    "print(calculate_total(cart))\n",
    "print(cart)"
   ]
  },
  {
   "cell_type": "markdown",
   "metadata": {},
   "source": [
    "## Example 4. Check if a string is palindrome\n"
   ]
  },
  {
   "cell_type": "code",
   "execution_count": 14,
   "metadata": {},
   "outputs": [
    {
     "name": "stdout",
     "output_type": "stream",
     "text": [
      "True\n",
      "True\n",
      "False\n"
     ]
    }
   ],
   "source": [
    "\n",
    "def checkPalindrome(str):\n",
    "    str = str.lower().replace(\" \", \"\")\n",
    "    return str == str[::-1]\n",
    "\n",
    "print(checkPalindrome(\"A man a plan a canal Panama\"))\n",
    "print(checkPalindrome(\"Madam\"))\n",
    "print(checkPalindrome(\"monu\"))"
   ]
  },
  {
   "cell_type": "markdown",
   "metadata": {},
   "source": [
    "## Example 5: Calculate the factorials of a number using recursion"
   ]
  },
  {
   "cell_type": "code",
   "execution_count": 15,
   "metadata": {},
   "outputs": [
    {
     "name": "stdout",
     "output_type": "stream",
     "text": [
      "120\n"
     ]
    }
   ],
   "source": [
    "def factorial(num):\n",
    "    if num==1:\n",
    "        return num\n",
    "    \n",
    "    return num*factorial(num-1)\n",
    "\n",
    "print(factorial(5))\n"
   ]
  },
  {
   "cell_type": "markdown",
   "metadata": {},
   "source": [
    "## Example 6: A function to read a file and count the frequency of each word"
   ]
  },
  {
   "cell_type": "code",
   "execution_count": 16,
   "metadata": {},
   "outputs": [
    {
     "name": "stdout",
     "output_type": "stream",
     "text": [
      "{'hello': 1, 'this': 1, 'is': 2, 'normal': 1, 'file': 1, 'my': 1, 'name': 1, 'chandan': 1, 'kumar': 1}\n"
     ]
    }
   ],
   "source": [
    "def count_word_frequency(file_path):\n",
    "    word_count = {}\n",
    "    with open(file_path, 'r') as file:\n",
    "        for line in file:\n",
    "            words = line.split()\n",
    "            for word in words:\n",
    "                word = word.lower().strip('.,!?::\"\\'')\n",
    "                word_count[word]= word_count.get(word, 0)+1\n",
    "    return word_count\n",
    "\n",
    "file_path = 'sample.txt'\n",
    "word_frequency = count_word_frequency(file_path)\n",
    "print(word_frequency)"
   ]
  },
  {
   "cell_type": "markdown",
   "metadata": {},
   "source": [
    "## Example 7: Valid Email Address"
   ]
  },
  {
   "cell_type": "code",
   "execution_count": null,
   "metadata": {},
   "outputs": [
    {
     "name": "stdout",
     "output_type": "stream",
     "text": [
      "True\n",
      "False\n"
     ]
    }
   ],
   "source": [
    "import re\n",
    "\n",
    "# Email function\n",
    "def is_valid_function(email):\n",
    "    \"\"\"This function checks if the email is valid..\"\"\"\n",
    "    pattern = r'^[a-zA-Z0-9_.+-]+@[a-zA-Z0-9_.+-]+\\.[a-zA-Z0-9-.]+$'\n",
    "    return re.match(pattern, email) is not None\n",
    "\n",
    "\n",
    "## Calling function\n",
    "print(is_valid_function(\"test@example.com\"))\n",
    "print(is_valid_function(\"test@example-com\"))"
   ]
  }
 ],
 "metadata": {
  "kernelspec": {
   "display_name": "Python 3",
   "language": "python",
   "name": "python3"
  },
  "language_info": {
   "codemirror_mode": {
    "name": "ipython",
    "version": 3
   },
   "file_extension": ".py",
   "mimetype": "text/x-python",
   "name": "python",
   "nbconvert_exporter": "python",
   "pygments_lexer": "ipython3",
   "version": "3.12.0"
  }
 },
 "nbformat": 4,
 "nbformat_minor": 2
}
