{
 "cells": [
  {
   "cell_type": "markdown",
   "metadata": {},
   "source": [
    "## File operation - Read and write file"
   ]
  },
  {
   "cell_type": "code",
   "execution_count": 2,
   "metadata": {},
   "outputs": [
    {
     "name": "stdout",
     "output_type": "stream",
     "text": [
      "Hello, how are you??\n",
      "I am good boy\n",
      "I am best boy\n",
      "I am better boy\n",
      "something something\n"
     ]
    }
   ],
   "source": [
    "## Reading whole file\n",
    "\n",
    "with open('example.txt', 'r') as file:\n",
    "    content = file.read()\n",
    "    print(content)"
   ]
  },
  {
   "cell_type": "code",
   "execution_count": 5,
   "metadata": {},
   "outputs": [
    {
     "name": "stdout",
     "output_type": "stream",
     "text": [
      "Hello, how are you??\n",
      "I am good boy\n",
      "I am best boy\n",
      "I am better boy\n",
      "something something\n"
     ]
    }
   ],
   "source": [
    "## Reading line by line\n",
    "\n",
    "with open('example.txt', 'r') as file:\n",
    "    for line in file:\n",
    "        print(line.strip())  ## strip is used to remove new line"
   ]
  },
  {
   "cell_type": "code",
   "execution_count": 6,
   "metadata": {},
   "outputs": [],
   "source": [
    "## writing file with overwriting\n",
    "\n",
    "with open('example.txt', 'w') as file:\n",
    "    file.write(\"Hello world..\\n\")\n",
    "    file.write(\"This remvoe the previous conent\")"
   ]
  },
  {
   "cell_type": "code",
   "execution_count": 3,
   "metadata": {},
   "outputs": [],
   "source": [
    "## write the file without overwriting\n",
    "\n",
    "with open('example.txt', 'a') as file:\n",
    "    file.write('\\nThis is add without removing previous content')"
   ]
  },
  {
   "cell_type": "code",
   "execution_count": 7,
   "metadata": {},
   "outputs": [],
   "source": [
    "## writing a list of lines without overwriting\n",
    "\n",
    "line = ['\\nfirst line \\n second line \\n third line....']\n",
    "with open('example.txt', 'a') as file:\n",
    "    file.writelines(line)"
   ]
  },
  {
   "cell_type": "code",
   "execution_count": 9,
   "metadata": {},
   "outputs": [],
   "source": [
    "## Binary files\n",
    "\n",
    "## writing binary file\n",
    "data = b'\\x00\\x01\\x02\\x03\\x04'\n",
    "with open('example.bin', 'wb') as file:\n",
    "    file.write(data)"
   ]
  },
  {
   "cell_type": "code",
   "execution_count": 11,
   "metadata": {},
   "outputs": [
    {
     "name": "stdout",
     "output_type": "stream",
     "text": [
      "b'\\x00\\x01\\x02\\x03\\x04'\n"
     ]
    }
   ],
   "source": [
    "## reading binary file\n",
    "with open('example.bin', 'rb') as file:\n",
    "    content = file.read()\n",
    "    print(content)"
   ]
  },
  {
   "cell_type": "code",
   "execution_count": 13,
   "metadata": {},
   "outputs": [
    {
     "name": "stdout",
     "output_type": "stream",
     "text": [
      "Hello world..\n",
      "This remvoe the previous conentThis is add without removing previous content\n",
      "This is add without removing previous content\n",
      "This is add without removing previous content\n",
      "first line \n",
      " second line \n",
      " third line....\n",
      "first line \n",
      " second line \n",
      " third line....\n"
     ]
    }
   ],
   "source": [
    "### Read the content from source file and write it from destination file\n",
    "\n",
    "## copy data from source file\n",
    "with open('example.txt', 'r') as file:\n",
    "    content = file.read()\n",
    "    print(content)\n",
    "\n",
    "## write it in destination file\n",
    "with open('destination.txt', 'w') as file:\n",
    "    file.write(content)"
   ]
  },
  {
   "cell_type": "code",
   "execution_count": 18,
   "metadata": {},
   "outputs": [
    {
     "name": "stdout",
     "output_type": "stream",
     "text": [
      "Lines : 10, words : 39, \"Characters : 266\n"
     ]
    }
   ],
   "source": [
    "## Read text file and count the number of lines, words and character\n",
    "\n",
    "## counting lines, words and characters from file\n",
    "\n",
    "def count_line_word_character(file_path):\n",
    "    with open(file_path, 'r') as file:\n",
    "        lines = file.readlines()\n",
    "        line_count = len(lines)\n",
    "        word_count = sum(len(line.split()) for line in lines)\n",
    "        char_count = sum(len(line) for line in lines)\n",
    "    return line_count, word_count, char_count\n",
    "\n",
    "\n",
    "file_path = 'example.txt'\n",
    "\n",
    "lines, words, character = count_line_word_character(file_path)\n",
    "print(f'Lines : {lines}, words : {words}, \"Characters : {character}')"
   ]
  },
  {
   "cell_type": "code",
   "execution_count": null,
   "metadata": {},
   "outputs": [
    {
     "name": "stdout",
     "output_type": "stream",
     "text": [
      "\n",
      "Hello world...\n",
      "This is my second line...\n"
     ]
    }
   ],
   "source": [
    "## writing and reading file\n",
    "\n",
    "with open('example.txt', 'w+') as file:\n",
    "    file.write('Hello world...\\n')\n",
    "    file.write(\"This is my second line...\")\n",
    "\n",
    "    ## Nothing print because our cursur is pointed in the last \n",
    "    content = file.read()\n",
    "    print(content)\n",
    "\n",
    "    ## move cursor using method\n",
    "    file.seek(0) ## 0 means starting index\n",
    "\n",
    "    ## now read the file content..\n",
    "    content = file.read()\n",
    "    print(content)"
   ]
  }
 ],
 "metadata": {
  "kernelspec": {
   "display_name": "Python 3",
   "language": "python",
   "name": "python3"
  },
  "language_info": {
   "codemirror_mode": {
    "name": "ipython",
    "version": 3
   },
   "file_extension": ".py",
   "mimetype": "text/x-python",
   "name": "python",
   "nbconvert_exporter": "python",
   "pygments_lexer": "ipython3",
   "version": "3.12.0"
  }
 },
 "nbformat": 4,
 "nbformat_minor": 2
}
