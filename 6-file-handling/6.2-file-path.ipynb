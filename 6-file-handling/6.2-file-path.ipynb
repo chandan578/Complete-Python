{
 "cells": [
  {
   "cell_type": "markdown",
   "metadata": {},
   "source": [
    "### Working with some directory"
   ]
  },
  {
   "cell_type": "code",
   "execution_count": null,
   "metadata": {},
   "outputs": [],
   "source": [
    "import os"
   ]
  },
  {
   "cell_type": "code",
   "execution_count": 4,
   "metadata": {},
   "outputs": [
    {
     "name": "stdout",
     "output_type": "stream",
     "text": [
      "Directory 'package' created successfully...\n"
     ]
    }
   ],
   "source": [
    "## Create a new directory\n",
    "\n",
    "new_directory = 'package'\n",
    "os.mkdir(new_directory)\n",
    "print(f\"Directory '{new_directory}' created successfully...\")"
   ]
  },
  {
   "cell_type": "code",
   "execution_count": 6,
   "metadata": {},
   "outputs": [
    {
     "name": "stdout",
     "output_type": "stream",
     "text": [
      "['6.1-file-operation.ipynb', '6.2-file-path.ipynb', 'destination.txt', 'example.bin', 'example.txt', 'package']\n"
     ]
    }
   ],
   "source": [
    "## listing files and directories\n",
    "\n",
    "file_list = os.listdir('.')\n",
    "print(file_list)"
   ]
  },
  {
   "cell_type": "code",
   "execution_count": 8,
   "metadata": {},
   "outputs": [
    {
     "name": "stdout",
     "output_type": "stream",
     "text": [
      "folder\\example.txt\n"
     ]
    }
   ],
   "source": [
    "## Joining path\n",
    "\n",
    "dir_name = 'folder'\n",
    "file_name = 'example.txt'\n",
    "full_path = os.path.join(dir_name, file_name)\n",
    "print(full_path)"
   ]
  },
  {
   "cell_type": "code",
   "execution_count": 10,
   "metadata": {},
   "outputs": [
    {
     "name": "stdout",
     "output_type": "stream",
     "text": [
      "c:\\Coding\\AI_ML_DL\\python\\6-file-handling\\folder\\example.txt\n"
     ]
    }
   ],
   "source": [
    "dir_name = 'folder'\n",
    "file_name = 'example.txt'\n",
    "full_path = os.path.join(os.getcwd(), dir_name, file_name)\n",
    "print(full_path)"
   ]
  },
  {
   "cell_type": "code",
   "execution_count": 15,
   "metadata": {},
   "outputs": [
    {
     "name": "stdout",
     "output_type": "stream",
     "text": [
      "The path 'example.bin' exist..\n"
     ]
    }
   ],
   "source": [
    "## if path available or not\n",
    "\n",
    "path = 'example.bin'\n",
    "\n",
    "if os.path.exists(path):\n",
    "    print(f\"The path '{path}' exist..\")\n",
    "else:\n",
    "    print(f\"The path '{path}' does not exist...\")"
   ]
  },
  {
   "cell_type": "code",
   "execution_count": 17,
   "metadata": {},
   "outputs": [
    {
     "name": "stdout",
     "output_type": "stream",
     "text": [
      "The path is 'example.bin' file....\n"
     ]
    }
   ],
   "source": [
    "## checking if a path is file or directory\n",
    "\n",
    "path = 'example.bin'\n",
    "\n",
    "if os.path.isfile(path):\n",
    "    print(f\"The path is '{path}' file....\")\n",
    "elif os.path.isdir(path):\n",
    "    print(f\"The path '{path}' is folder\")\n",
    "else:\n",
    "    print(f\"The path '{path}' is neither file nor folder....\")"
   ]
  },
  {
   "cell_type": "code",
   "execution_count": 18,
   "metadata": {},
   "outputs": [
    {
     "name": "stdout",
     "output_type": "stream",
     "text": [
      "c:\\Coding\\AI_ML_DL\\python\\6-file-handling\\example.txt\n"
     ]
    }
   ],
   "source": [
    "## Getting the absolute path\n",
    "\n",
    "relative_path = 'example.txt'\n",
    "absolute_path = os.path.abspath(relative_path)\n",
    "print(absolute_path)"
   ]
  }
 ],
 "metadata": {
  "kernelspec": {
   "display_name": "Python 3",
   "language": "python",
   "name": "python3"
  },
  "language_info": {
   "codemirror_mode": {
    "name": "ipython",
    "version": 3
   },
   "file_extension": ".py",
   "mimetype": "text/x-python",
   "name": "python",
   "nbconvert_exporter": "python",
   "pygments_lexer": "ipython3",
   "version": "3.12.0"
  }
 },
 "nbformat": 4,
 "nbformat_minor": 2
}
