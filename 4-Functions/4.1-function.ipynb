{
 "cells": [
  {
   "cell_type": "markdown",
   "metadata": {},
   "source": [
    "## Function"
   ]
  },
  {
   "cell_type": "code",
   "execution_count": 1,
   "metadata": {},
   "outputs": [],
   "source": [
    "## syntax\n",
    "\n",
    "def function_name(parameter):\n",
    "    \"\"\"Docstring\"\"\"\n",
    "    ## function body\n",
    "    return expression"
   ]
  },
  {
   "cell_type": "code",
   "execution_count": 2,
   "metadata": {},
   "outputs": [
    {
     "name": "stdout",
     "output_type": "stream",
     "text": [
      "the number is even\n"
     ]
    }
   ],
   "source": [
    "## why functions ??\n",
    "\n",
    "num = 24\n",
    "if num%2==0:\n",
    "    print(\"the number is even\")\n",
    "else : print(\"the number is odd\")"
   ]
  },
  {
   "cell_type": "code",
   "execution_count": 5,
   "metadata": {},
   "outputs": [],
   "source": [
    "def even_or_odd(num):\n",
    "    \"\"\"This is even or odd funtion\"\"\"\n",
    "    if num%2==0:\n",
    "        print(f\"{num} is even number.\")\n",
    "    else:\n",
    "        print(f\"{num} is odd number.\")"
   ]
  },
  {
   "cell_type": "code",
   "execution_count": 8,
   "metadata": {},
   "outputs": [
    {
     "name": "stdout",
     "output_type": "stream",
     "text": [
      "44 is even number.\n",
      "33 is odd number.\n"
     ]
    }
   ],
   "source": [
    "## call the function\n",
    "even_or_odd(44)\n",
    "even_or_odd(33)"
   ]
  },
  {
   "cell_type": "code",
   "execution_count": 10,
   "metadata": {},
   "outputs": [
    {
     "name": "stdout",
     "output_type": "stream",
     "text": [
      "8\n"
     ]
    }
   ],
   "source": [
    "## Function with multiple parameters\n",
    "\n",
    "def add(a, b):\n",
    "    return a+b\n",
    "\n",
    "result = add(3,5)\n",
    "print(result)"
   ]
  },
  {
   "cell_type": "code",
   "execution_count": 12,
   "metadata": {},
   "outputs": [
    {
     "name": "stdout",
     "output_type": "stream",
     "text": [
      "Hello chandan welcome \n"
     ]
    }
   ],
   "source": [
    "## Default parameters\n",
    "\n",
    "def greet(name):\n",
    "    print(f\"Hello {name} welcome \")\n",
    "\n",
    "greet(\"chandan\")"
   ]
  },
  {
   "cell_type": "code",
   "execution_count": 13,
   "metadata": {},
   "outputs": [
    {
     "name": "stdout",
     "output_type": "stream",
     "text": [
      "Hello, Guest welcome..\n"
     ]
    }
   ],
   "source": [
    "def greet(name=\"Guest\"):\n",
    "    print(f\"Hello, {name} welcome..\")\n",
    "\n",
    "greet()"
   ]
  },
  {
   "cell_type": "code",
   "execution_count": null,
   "metadata": {},
   "outputs": [],
   "source": [
    "## Variable length arguments\n",
    "## Positional and keywords arguments\n",
    "\n",
    "def print_numbers(*name):  ## instead name we use args\n",
    "    for number in name:\n",
    "        print(number)"
   ]
  },
  {
   "cell_type": "code",
   "execution_count": 17,
   "metadata": {},
   "outputs": [
    {
     "name": "stdout",
     "output_type": "stream",
     "text": [
      "1\n",
      "2\n",
      "3\n",
      "4\n",
      "5\n",
      "6\n",
      "hhhhh\n"
     ]
    }
   ],
   "source": [
    "print_numbers(1,2,3,4,5,6, \"hhhhh\")"
   ]
  },
  {
   "cell_type": "code",
   "execution_count": 18,
   "metadata": {},
   "outputs": [],
   "source": [
    "## keyword arguments\n",
    "\n",
    "def print_details(**kwargs):\n",
    "    for key, value in kwargs.items():\n",
    "        print(f\"{key}: {value}\")"
   ]
  },
  {
   "cell_type": "code",
   "execution_count": 19,
   "metadata": {},
   "outputs": [
    {
     "name": "stdout",
     "output_type": "stream",
     "text": [
      "name: chandan\n",
      "age: 23\n",
      "country: India\n"
     ]
    }
   ],
   "source": [
    "print_details(name=\"chandan\", age=\"23\", country=\"India\")\n"
   ]
  },
  {
   "cell_type": "code",
   "execution_count": 25,
   "metadata": {},
   "outputs": [],
   "source": [
    "## Mixed positional and keyword argument\n",
    "\n",
    "def print_details(*args, **kwargs):\n",
    "    for value in args:\n",
    "        print(f\"Positional arguments : {value}\")\n",
    "\n",
    "    for key, value in kwargs.items():\n",
    "        print(f\"{key}: {value}\")\n"
   ]
  },
  {
   "cell_type": "code",
   "execution_count": 26,
   "metadata": {},
   "outputs": [
    {
     "name": "stdout",
     "output_type": "stream",
     "text": [
      "Positional arguments : 1\n",
      "Positional arguments : 2\n",
      "Positional arguments : 3\n",
      "Positional arguments : 4\n",
      "Positional arguments : 5\n",
      "Positional arguments : chandan\n",
      "name: chandan\n",
      "age: 34\n",
      "country: India\n"
     ]
    }
   ],
   "source": [
    "print_details(1,2,3,4,5,\"chandan\", name=\"chandan\", age=\"34\", country=\"India\")"
   ]
  },
  {
   "cell_type": "code",
   "execution_count": 28,
   "metadata": {},
   "outputs": [
    {
     "data": {
      "text/plain": [
       "15"
      ]
     },
     "execution_count": 28,
     "metadata": {},
     "output_type": "execute_result"
    }
   ],
   "source": [
    "## Return paremeter\n",
    "\n",
    "def mul(a, b):\n",
    "    return a*b\n",
    "\n",
    "mul(3,5)"
   ]
  },
  {
   "cell_type": "code",
   "execution_count": null,
   "metadata": {},
   "outputs": [
    {
     "data": {
      "text/plain": [
       "(15, 5)"
      ]
     },
     "execution_count": 29,
     "metadata": {},
     "output_type": "execute_result"
    }
   ],
   "source": [
    "## Return multiple paremeters\n",
    "\n",
    "def mul(a, b):\n",
    "    return a*b, b\n",
    "\n",
    "mul(3,5)"
   ]
  }
 ],
 "metadata": {
  "kernelspec": {
   "display_name": "Python 3",
   "language": "python",
   "name": "python3"
  },
  "language_info": {
   "codemirror_mode": {
    "name": "ipython",
    "version": 3
   },
   "file_extension": ".py",
   "mimetype": "text/x-python",
   "name": "python",
   "nbconvert_exporter": "python",
   "pygments_lexer": "ipython3",
   "version": "3.12.0"
  }
 },
 "nbformat": 4,
 "nbformat_minor": 2
}
